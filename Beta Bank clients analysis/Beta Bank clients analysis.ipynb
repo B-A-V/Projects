{
 "cells": [
  {
   "cell_type": "markdown",
   "metadata": {},
   "source": [
    "# Проект исследования поведения клиентов Бета-Банка"
   ]
  },
  {
   "cell_type": "markdown",
   "metadata": {},
   "source": [
    "## Описание проекта."
   ]
  },
  {
   "cell_type": "markdown",
   "metadata": {},
   "source": [
    "Из банка заказчика стали уходить клиенты. \n",
    "Банковские маркетологи пришли к выводу что, сохранять текущих клиентов дешевле, чем привлекать новых.\n",
    "Нужно спрогнозировать, уйдёт клиент из банка в ближайшее время или нет на основе предоставленных нам исторических данные о поведении клиентов и расторжении договоров с банком.\n",
    "Также необходимо построить модель с предельно большим значением F1-меры, от 0.59. Проверим F1-меру на тестовой выборке.\n",
    "Дополнительно измеряем AUC-ROC, сравнив её значение с F1-мерой."
   ]
  },
  {
   "cell_type": "markdown",
   "metadata": {},
   "source": [
    "## План проекта."
   ]
  },
  {
   "cell_type": "markdown",
   "metadata": {},
   "source": [
    "1. Загрузить и подготовить данные. Пояснить порядок действий.\n",
    "2. Исследовать баланс классов, обучить модель без учёта дисбаланса. Кратко описать выводы.\n",
    "3. Улучшить качество модели, учитывая дисбаланс классов. Обучить разные модели и найти лучшую. Кратко описать выводы.\n",
    "4. Провести финальное тестирование на тестовой выборке и сравнить с AUC-ROC.\n",
    "\n"
   ]
  },
  {
   "cell_type": "markdown",
   "metadata": {},
   "source": [
    "## Описание данных."
   ]
  },
  {
   "cell_type": "markdown",
   "metadata": {},
   "source": [
    "Признаки:\n",
    "\n",
    "- RowNumber — индекс строки в данных\n",
    "- CustomerId — уникальный идентификатор клиента\n",
    "- Surname — фамилия\n",
    "- CreditScore — кредитный рейтинг\n",
    "- Geography — страна проживания\n",
    "- Gender — пол\n",
    "- Age — возраст\n",
    "- Tenure — количество недвижимости у клиента\n",
    "- Balance — баланс на счёте\n",
    "- NumOfProducts — количество продуктов банка, используемых клиентом\n",
    "- HasCrCard — наличие кредитной карты\n",
    "- IsActiveMember — активность клиента\n",
    "- EstimatedSalary — предполагаемая зарплата\n",
    "\n",
    "Целевой признак:\n",
    "\n",
    "- Exited — факт ухода клиента"
   ]
  },
  {
   "cell_type": "markdown",
   "metadata": {},
   "source": [
    "## 1. Загрузка данных, необходимых библиотек и подготовка данных к анализу."
   ]
  },
  {
   "cell_type": "code",
   "execution_count": 7,
   "metadata": {},
   "outputs": [],
   "source": [
    "import pandas as pd\n",
    "import numpy as np\n",
    "from sklearn.model_selection import train_test_split\n",
    "from sklearn.tree import DecisionTreeClassifier\n",
    "from sklearn.metrics import accuracy_score\n",
    "from sklearn.ensemble import RandomForestClassifier\n",
    "from sklearn.linear_model import LogisticRegression\n",
    "from sklearn.metrics import precision_score\n",
    "from sklearn.metrics import recall_score\n",
    "from sklearn.metrics import f1_score\n",
    "from sklearn.metrics import roc_auc_score\n",
    "from sklearn.metrics import roc_curve\n",
    "import matplotlib.pyplot as plt\n",
    "from sklearn.utils import shuffle\n",
    "from IPython.display import display"
   ]
  },
  {
   "cell_type": "code",
   "execution_count": 8,
   "metadata": {},
   "outputs": [
    {
     "name": "stdout",
     "output_type": "stream",
     "text": [
      "<class 'pandas.core.frame.DataFrame'>\n",
      "RangeIndex: 10000 entries, 0 to 9999\n",
      "Data columns (total 14 columns):\n",
      "RowNumber          10000 non-null int64\n",
      "CustomerId         10000 non-null int64\n",
      "Surname            10000 non-null object\n",
      "CreditScore        10000 non-null int64\n",
      "Geography          10000 non-null object\n",
      "Gender             10000 non-null object\n",
      "Age                10000 non-null int64\n",
      "Tenure             9091 non-null float64\n",
      "Balance            10000 non-null float64\n",
      "NumOfProducts      10000 non-null int64\n",
      "HasCrCard          10000 non-null int64\n",
      "IsActiveMember     10000 non-null int64\n",
      "EstimatedSalary    10000 non-null float64\n",
      "Exited             10000 non-null int64\n",
      "dtypes: float64(3), int64(8), object(3)\n",
      "memory usage: 1.1+ MB\n"
     ]
    }
   ],
   "source": [
    "df = pd.read_csv('/datasets/Churn.csv')\n",
    "df.info()"
   ]
  },
  {
   "cell_type": "markdown",
   "metadata": {},
   "source": [
    "14 столбцов, по 10000 строчек. В столбце tenure есть пропуски - необходимо их рассмотреть. "
   ]
  },
  {
   "cell_type": "markdown",
   "metadata": {},
   "source": [
    "Рассмотрим столбец tenure. "
   ]
  },
  {
   "cell_type": "code",
   "execution_count": 9,
   "metadata": {},
   "outputs": [
    {
     "data": {
      "text/html": [
       "<div>\n",
       "<style scoped>\n",
       "    .dataframe tbody tr th:only-of-type {\n",
       "        vertical-align: middle;\n",
       "    }\n",
       "\n",
       "    .dataframe tbody tr th {\n",
       "        vertical-align: top;\n",
       "    }\n",
       "\n",
       "    .dataframe thead th {\n",
       "        text-align: right;\n",
       "    }\n",
       "</style>\n",
       "<table border=\"1\" class=\"dataframe\">\n",
       "  <thead>\n",
       "    <tr style=\"text-align: right;\">\n",
       "      <th></th>\n",
       "      <th>RowNumber</th>\n",
       "      <th>CustomerId</th>\n",
       "      <th>Surname</th>\n",
       "      <th>CreditScore</th>\n",
       "      <th>Geography</th>\n",
       "      <th>Gender</th>\n",
       "      <th>Age</th>\n",
       "      <th>Tenure</th>\n",
       "      <th>Balance</th>\n",
       "      <th>NumOfProducts</th>\n",
       "      <th>HasCrCard</th>\n",
       "      <th>IsActiveMember</th>\n",
       "      <th>EstimatedSalary</th>\n",
       "      <th>Exited</th>\n",
       "    </tr>\n",
       "  </thead>\n",
       "  <tbody>\n",
       "    <tr>\n",
       "      <td>0</td>\n",
       "      <td>1</td>\n",
       "      <td>15634602</td>\n",
       "      <td>Hargrave</td>\n",
       "      <td>619</td>\n",
       "      <td>France</td>\n",
       "      <td>Female</td>\n",
       "      <td>42</td>\n",
       "      <td>2.0</td>\n",
       "      <td>0.00</td>\n",
       "      <td>1</td>\n",
       "      <td>1</td>\n",
       "      <td>1</td>\n",
       "      <td>101348.88</td>\n",
       "      <td>1</td>\n",
       "    </tr>\n",
       "    <tr>\n",
       "      <td>1</td>\n",
       "      <td>2</td>\n",
       "      <td>15647311</td>\n",
       "      <td>Hill</td>\n",
       "      <td>608</td>\n",
       "      <td>Spain</td>\n",
       "      <td>Female</td>\n",
       "      <td>41</td>\n",
       "      <td>1.0</td>\n",
       "      <td>83807.86</td>\n",
       "      <td>1</td>\n",
       "      <td>0</td>\n",
       "      <td>1</td>\n",
       "      <td>112542.58</td>\n",
       "      <td>0</td>\n",
       "    </tr>\n",
       "    <tr>\n",
       "      <td>2</td>\n",
       "      <td>3</td>\n",
       "      <td>15619304</td>\n",
       "      <td>Onio</td>\n",
       "      <td>502</td>\n",
       "      <td>France</td>\n",
       "      <td>Female</td>\n",
       "      <td>42</td>\n",
       "      <td>8.0</td>\n",
       "      <td>159660.80</td>\n",
       "      <td>3</td>\n",
       "      <td>1</td>\n",
       "      <td>0</td>\n",
       "      <td>113931.57</td>\n",
       "      <td>1</td>\n",
       "    </tr>\n",
       "    <tr>\n",
       "      <td>3</td>\n",
       "      <td>4</td>\n",
       "      <td>15701354</td>\n",
       "      <td>Boni</td>\n",
       "      <td>699</td>\n",
       "      <td>France</td>\n",
       "      <td>Female</td>\n",
       "      <td>39</td>\n",
       "      <td>1.0</td>\n",
       "      <td>0.00</td>\n",
       "      <td>2</td>\n",
       "      <td>0</td>\n",
       "      <td>0</td>\n",
       "      <td>93826.63</td>\n",
       "      <td>0</td>\n",
       "    </tr>\n",
       "    <tr>\n",
       "      <td>4</td>\n",
       "      <td>5</td>\n",
       "      <td>15737888</td>\n",
       "      <td>Mitchell</td>\n",
       "      <td>850</td>\n",
       "      <td>Spain</td>\n",
       "      <td>Female</td>\n",
       "      <td>43</td>\n",
       "      <td>2.0</td>\n",
       "      <td>125510.82</td>\n",
       "      <td>1</td>\n",
       "      <td>1</td>\n",
       "      <td>1</td>\n",
       "      <td>79084.10</td>\n",
       "      <td>0</td>\n",
       "    </tr>\n",
       "    <tr>\n",
       "      <td>5</td>\n",
       "      <td>6</td>\n",
       "      <td>15574012</td>\n",
       "      <td>Chu</td>\n",
       "      <td>645</td>\n",
       "      <td>Spain</td>\n",
       "      <td>Male</td>\n",
       "      <td>44</td>\n",
       "      <td>8.0</td>\n",
       "      <td>113755.78</td>\n",
       "      <td>2</td>\n",
       "      <td>1</td>\n",
       "      <td>0</td>\n",
       "      <td>149756.71</td>\n",
       "      <td>1</td>\n",
       "    </tr>\n",
       "    <tr>\n",
       "      <td>6</td>\n",
       "      <td>7</td>\n",
       "      <td>15592531</td>\n",
       "      <td>Bartlett</td>\n",
       "      <td>822</td>\n",
       "      <td>France</td>\n",
       "      <td>Male</td>\n",
       "      <td>50</td>\n",
       "      <td>7.0</td>\n",
       "      <td>0.00</td>\n",
       "      <td>2</td>\n",
       "      <td>1</td>\n",
       "      <td>1</td>\n",
       "      <td>10062.80</td>\n",
       "      <td>0</td>\n",
       "    </tr>\n",
       "    <tr>\n",
       "      <td>7</td>\n",
       "      <td>8</td>\n",
       "      <td>15656148</td>\n",
       "      <td>Obinna</td>\n",
       "      <td>376</td>\n",
       "      <td>Germany</td>\n",
       "      <td>Female</td>\n",
       "      <td>29</td>\n",
       "      <td>4.0</td>\n",
       "      <td>115046.74</td>\n",
       "      <td>4</td>\n",
       "      <td>1</td>\n",
       "      <td>0</td>\n",
       "      <td>119346.88</td>\n",
       "      <td>1</td>\n",
       "    </tr>\n",
       "    <tr>\n",
       "      <td>8</td>\n",
       "      <td>9</td>\n",
       "      <td>15792365</td>\n",
       "      <td>He</td>\n",
       "      <td>501</td>\n",
       "      <td>France</td>\n",
       "      <td>Male</td>\n",
       "      <td>44</td>\n",
       "      <td>4.0</td>\n",
       "      <td>142051.07</td>\n",
       "      <td>2</td>\n",
       "      <td>0</td>\n",
       "      <td>1</td>\n",
       "      <td>74940.50</td>\n",
       "      <td>0</td>\n",
       "    </tr>\n",
       "    <tr>\n",
       "      <td>9</td>\n",
       "      <td>10</td>\n",
       "      <td>15592389</td>\n",
       "      <td>H?</td>\n",
       "      <td>684</td>\n",
       "      <td>France</td>\n",
       "      <td>Male</td>\n",
       "      <td>27</td>\n",
       "      <td>2.0</td>\n",
       "      <td>134603.88</td>\n",
       "      <td>1</td>\n",
       "      <td>1</td>\n",
       "      <td>1</td>\n",
       "      <td>71725.73</td>\n",
       "      <td>0</td>\n",
       "    </tr>\n",
       "  </tbody>\n",
       "</table>\n",
       "</div>"
      ],
      "text/plain": [
       "   RowNumber  CustomerId   Surname  CreditScore Geography  Gender  Age  \\\n",
       "0          1    15634602  Hargrave          619    France  Female   42   \n",
       "1          2    15647311      Hill          608     Spain  Female   41   \n",
       "2          3    15619304      Onio          502    France  Female   42   \n",
       "3          4    15701354      Boni          699    France  Female   39   \n",
       "4          5    15737888  Mitchell          850     Spain  Female   43   \n",
       "5          6    15574012       Chu          645     Spain    Male   44   \n",
       "6          7    15592531  Bartlett          822    France    Male   50   \n",
       "7          8    15656148    Obinna          376   Germany  Female   29   \n",
       "8          9    15792365        He          501    France    Male   44   \n",
       "9         10    15592389        H?          684    France    Male   27   \n",
       "\n",
       "   Tenure    Balance  NumOfProducts  HasCrCard  IsActiveMember  \\\n",
       "0     2.0       0.00              1          1               1   \n",
       "1     1.0   83807.86              1          0               1   \n",
       "2     8.0  159660.80              3          1               0   \n",
       "3     1.0       0.00              2          0               0   \n",
       "4     2.0  125510.82              1          1               1   \n",
       "5     8.0  113755.78              2          1               0   \n",
       "6     7.0       0.00              2          1               1   \n",
       "7     4.0  115046.74              4          1               0   \n",
       "8     4.0  142051.07              2          0               1   \n",
       "9     2.0  134603.88              1          1               1   \n",
       "\n",
       "   EstimatedSalary  Exited  \n",
       "0        101348.88       1  \n",
       "1        112542.58       0  \n",
       "2        113931.57       1  \n",
       "3         93826.63       0  \n",
       "4         79084.10       0  \n",
       "5        149756.71       1  \n",
       "6         10062.80       0  \n",
       "7        119346.88       1  \n",
       "8         74940.50       0  \n",
       "9         71725.73       0  "
      ]
     },
     "execution_count": 9,
     "metadata": {},
     "output_type": "execute_result"
    }
   ],
   "source": [
    "df.head(10)"
   ]
  },
  {
   "cell_type": "code",
   "execution_count": 10,
   "metadata": {},
   "outputs": [
    {
     "data": {
      "text/html": [
       "<div>\n",
       "<style scoped>\n",
       "    .dataframe tbody tr th:only-of-type {\n",
       "        vertical-align: middle;\n",
       "    }\n",
       "\n",
       "    .dataframe tbody tr th {\n",
       "        vertical-align: top;\n",
       "    }\n",
       "\n",
       "    .dataframe thead th {\n",
       "        text-align: right;\n",
       "    }\n",
       "</style>\n",
       "<table border=\"1\" class=\"dataframe\">\n",
       "  <thead>\n",
       "    <tr style=\"text-align: right;\">\n",
       "      <th></th>\n",
       "      <th>RowNumber</th>\n",
       "      <th>CustomerId</th>\n",
       "      <th>Surname</th>\n",
       "      <th>CreditScore</th>\n",
       "      <th>Geography</th>\n",
       "      <th>Gender</th>\n",
       "      <th>Age</th>\n",
       "      <th>Tenure</th>\n",
       "      <th>Balance</th>\n",
       "      <th>NumOfProducts</th>\n",
       "      <th>HasCrCard</th>\n",
       "      <th>IsActiveMember</th>\n",
       "      <th>EstimatedSalary</th>\n",
       "      <th>Exited</th>\n",
       "    </tr>\n",
       "  </thead>\n",
       "  <tbody>\n",
       "    <tr>\n",
       "      <td>29</td>\n",
       "      <td>30</td>\n",
       "      <td>15656300</td>\n",
       "      <td>Lucciano</td>\n",
       "      <td>411</td>\n",
       "      <td>France</td>\n",
       "      <td>Male</td>\n",
       "      <td>29</td>\n",
       "      <td>0.0</td>\n",
       "      <td>59697.17</td>\n",
       "      <td>2</td>\n",
       "      <td>1</td>\n",
       "      <td>1</td>\n",
       "      <td>53483.21</td>\n",
       "      <td>0</td>\n",
       "    </tr>\n",
       "    <tr>\n",
       "      <td>35</td>\n",
       "      <td>36</td>\n",
       "      <td>15794171</td>\n",
       "      <td>Lombardo</td>\n",
       "      <td>475</td>\n",
       "      <td>France</td>\n",
       "      <td>Female</td>\n",
       "      <td>45</td>\n",
       "      <td>0.0</td>\n",
       "      <td>134264.04</td>\n",
       "      <td>1</td>\n",
       "      <td>1</td>\n",
       "      <td>0</td>\n",
       "      <td>27822.99</td>\n",
       "      <td>1</td>\n",
       "    </tr>\n",
       "    <tr>\n",
       "      <td>57</td>\n",
       "      <td>58</td>\n",
       "      <td>15647091</td>\n",
       "      <td>Endrizzi</td>\n",
       "      <td>725</td>\n",
       "      <td>Germany</td>\n",
       "      <td>Male</td>\n",
       "      <td>19</td>\n",
       "      <td>0.0</td>\n",
       "      <td>75888.20</td>\n",
       "      <td>1</td>\n",
       "      <td>0</td>\n",
       "      <td>0</td>\n",
       "      <td>45613.75</td>\n",
       "      <td>0</td>\n",
       "    </tr>\n",
       "    <tr>\n",
       "      <td>72</td>\n",
       "      <td>73</td>\n",
       "      <td>15812518</td>\n",
       "      <td>Palermo</td>\n",
       "      <td>657</td>\n",
       "      <td>Spain</td>\n",
       "      <td>Female</td>\n",
       "      <td>37</td>\n",
       "      <td>0.0</td>\n",
       "      <td>163607.18</td>\n",
       "      <td>1</td>\n",
       "      <td>0</td>\n",
       "      <td>1</td>\n",
       "      <td>44203.55</td>\n",
       "      <td>0</td>\n",
       "    </tr>\n",
       "    <tr>\n",
       "      <td>127</td>\n",
       "      <td>128</td>\n",
       "      <td>15782688</td>\n",
       "      <td>Piccio</td>\n",
       "      <td>625</td>\n",
       "      <td>Germany</td>\n",
       "      <td>Male</td>\n",
       "      <td>56</td>\n",
       "      <td>0.0</td>\n",
       "      <td>148507.24</td>\n",
       "      <td>1</td>\n",
       "      <td>1</td>\n",
       "      <td>0</td>\n",
       "      <td>46824.08</td>\n",
       "      <td>1</td>\n",
       "    </tr>\n",
       "    <tr>\n",
       "      <td>...</td>\n",
       "      <td>...</td>\n",
       "      <td>...</td>\n",
       "      <td>...</td>\n",
       "      <td>...</td>\n",
       "      <td>...</td>\n",
       "      <td>...</td>\n",
       "      <td>...</td>\n",
       "      <td>...</td>\n",
       "      <td>...</td>\n",
       "      <td>...</td>\n",
       "      <td>...</td>\n",
       "      <td>...</td>\n",
       "      <td>...</td>\n",
       "      <td>...</td>\n",
       "    </tr>\n",
       "    <tr>\n",
       "      <td>9793</td>\n",
       "      <td>9794</td>\n",
       "      <td>15772363</td>\n",
       "      <td>Hilton</td>\n",
       "      <td>772</td>\n",
       "      <td>Germany</td>\n",
       "      <td>Female</td>\n",
       "      <td>42</td>\n",
       "      <td>0.0</td>\n",
       "      <td>101979.16</td>\n",
       "      <td>1</td>\n",
       "      <td>1</td>\n",
       "      <td>0</td>\n",
       "      <td>90928.48</td>\n",
       "      <td>0</td>\n",
       "    </tr>\n",
       "    <tr>\n",
       "      <td>9799</td>\n",
       "      <td>9800</td>\n",
       "      <td>15722731</td>\n",
       "      <td>Manna</td>\n",
       "      <td>653</td>\n",
       "      <td>France</td>\n",
       "      <td>Male</td>\n",
       "      <td>46</td>\n",
       "      <td>0.0</td>\n",
       "      <td>119556.10</td>\n",
       "      <td>1</td>\n",
       "      <td>1</td>\n",
       "      <td>0</td>\n",
       "      <td>78250.13</td>\n",
       "      <td>1</td>\n",
       "    </tr>\n",
       "    <tr>\n",
       "      <td>9843</td>\n",
       "      <td>9844</td>\n",
       "      <td>15778304</td>\n",
       "      <td>Fan</td>\n",
       "      <td>646</td>\n",
       "      <td>Germany</td>\n",
       "      <td>Male</td>\n",
       "      <td>24</td>\n",
       "      <td>0.0</td>\n",
       "      <td>92398.08</td>\n",
       "      <td>1</td>\n",
       "      <td>1</td>\n",
       "      <td>1</td>\n",
       "      <td>18897.29</td>\n",
       "      <td>0</td>\n",
       "    </tr>\n",
       "    <tr>\n",
       "      <td>9868</td>\n",
       "      <td>9869</td>\n",
       "      <td>15587640</td>\n",
       "      <td>Rowntree</td>\n",
       "      <td>718</td>\n",
       "      <td>France</td>\n",
       "      <td>Female</td>\n",
       "      <td>43</td>\n",
       "      <td>0.0</td>\n",
       "      <td>93143.39</td>\n",
       "      <td>1</td>\n",
       "      <td>1</td>\n",
       "      <td>0</td>\n",
       "      <td>167554.86</td>\n",
       "      <td>0</td>\n",
       "    </tr>\n",
       "    <tr>\n",
       "      <td>9919</td>\n",
       "      <td>9920</td>\n",
       "      <td>15798084</td>\n",
       "      <td>Murray</td>\n",
       "      <td>688</td>\n",
       "      <td>France</td>\n",
       "      <td>Male</td>\n",
       "      <td>26</td>\n",
       "      <td>0.0</td>\n",
       "      <td>0.00</td>\n",
       "      <td>2</td>\n",
       "      <td>1</td>\n",
       "      <td>0</td>\n",
       "      <td>105784.85</td>\n",
       "      <td>0</td>\n",
       "    </tr>\n",
       "  </tbody>\n",
       "</table>\n",
       "<p>382 rows × 14 columns</p>\n",
       "</div>"
      ],
      "text/plain": [
       "      RowNumber  CustomerId   Surname  CreditScore Geography  Gender  Age  \\\n",
       "29           30    15656300  Lucciano          411    France    Male   29   \n",
       "35           36    15794171  Lombardo          475    France  Female   45   \n",
       "57           58    15647091  Endrizzi          725   Germany    Male   19   \n",
       "72           73    15812518   Palermo          657     Spain  Female   37   \n",
       "127         128    15782688    Piccio          625   Germany    Male   56   \n",
       "...         ...         ...       ...          ...       ...     ...  ...   \n",
       "9793       9794    15772363    Hilton          772   Germany  Female   42   \n",
       "9799       9800    15722731     Manna          653    France    Male   46   \n",
       "9843       9844    15778304       Fan          646   Germany    Male   24   \n",
       "9868       9869    15587640  Rowntree          718    France  Female   43   \n",
       "9919       9920    15798084    Murray          688    France    Male   26   \n",
       "\n",
       "      Tenure    Balance  NumOfProducts  HasCrCard  IsActiveMember  \\\n",
       "29       0.0   59697.17              2          1               1   \n",
       "35       0.0  134264.04              1          1               0   \n",
       "57       0.0   75888.20              1          0               0   \n",
       "72       0.0  163607.18              1          0               1   \n",
       "127      0.0  148507.24              1          1               0   \n",
       "...      ...        ...            ...        ...             ...   \n",
       "9793     0.0  101979.16              1          1               0   \n",
       "9799     0.0  119556.10              1          1               0   \n",
       "9843     0.0   92398.08              1          1               1   \n",
       "9868     0.0   93143.39              1          1               0   \n",
       "9919     0.0       0.00              2          1               0   \n",
       "\n",
       "      EstimatedSalary  Exited  \n",
       "29           53483.21       0  \n",
       "35           27822.99       1  \n",
       "57           45613.75       0  \n",
       "72           44203.55       0  \n",
       "127          46824.08       1  \n",
       "...               ...     ...  \n",
       "9793         90928.48       0  \n",
       "9799         78250.13       1  \n",
       "9843         18897.29       0  \n",
       "9868        167554.86       0  \n",
       "9919        105784.85       0  \n",
       "\n",
       "[382 rows x 14 columns]"
      ]
     },
     "execution_count": 10,
     "metadata": {},
     "output_type": "execute_result"
    }
   ],
   "source": [
    "df.query('Tenure == 0')"
   ]
  },
  {
   "cell_type": "markdown",
   "metadata": {},
   "source": [
    "Судя по всему пропуски в столбце tenure просто означают, что у клиента нет недвижимости. Заполним нулями."
   ]
  },
  {
   "cell_type": "code",
   "execution_count": 11,
   "metadata": {},
   "outputs": [],
   "source": [
    "df['Tenure'] = df['Tenure'].fillna(0)"
   ]
  },
  {
   "cell_type": "markdown",
   "metadata": {},
   "source": [
    "Для обучения модели и для анализа нам не потребуются столбцы RowNumber, CustomerId и Surname - эти признаки будут нерелевантными и собьют показатели. Отцепим их."
   ]
  },
  {
   "cell_type": "code",
   "execution_count": 12,
   "metadata": {},
   "outputs": [],
   "source": [
    "df = df.drop(['CustomerId', 'Surname', 'RowNumber'], axis=1)"
   ]
  },
  {
   "cell_type": "markdown",
   "metadata": {},
   "source": [
    "Преобразуем признаки при помощи OHE. Удалим лишние столбцы."
   ]
  },
  {
   "cell_type": "code",
   "execution_count": 13,
   "metadata": {},
   "outputs": [],
   "source": [
    "df = pd.get_dummies(df, drop_first=True)"
   ]
  },
  {
   "cell_type": "code",
   "execution_count": 14,
   "metadata": {},
   "outputs": [
    {
     "name": "stdout",
     "output_type": "stream",
     "text": [
      "<class 'pandas.core.frame.DataFrame'>\n",
      "RangeIndex: 10000 entries, 0 to 9999\n",
      "Data columns (total 12 columns):\n",
      "CreditScore          10000 non-null int64\n",
      "Age                  10000 non-null int64\n",
      "Tenure               10000 non-null float64\n",
      "Balance              10000 non-null float64\n",
      "NumOfProducts        10000 non-null int64\n",
      "HasCrCard            10000 non-null int64\n",
      "IsActiveMember       10000 non-null int64\n",
      "EstimatedSalary      10000 non-null float64\n",
      "Exited               10000 non-null int64\n",
      "Geography_Germany    10000 non-null uint8\n",
      "Geography_Spain      10000 non-null uint8\n",
      "Gender_Male          10000 non-null uint8\n",
      "dtypes: float64(3), int64(6), uint8(3)\n",
      "memory usage: 732.5 KB\n"
     ]
    }
   ],
   "source": [
    "df.info()"
   ]
  },
  {
   "cell_type": "code",
   "execution_count": 15,
   "metadata": {},
   "outputs": [
    {
     "data": {
      "text/html": [
       "<div>\n",
       "<style scoped>\n",
       "    .dataframe tbody tr th:only-of-type {\n",
       "        vertical-align: middle;\n",
       "    }\n",
       "\n",
       "    .dataframe tbody tr th {\n",
       "        vertical-align: top;\n",
       "    }\n",
       "\n",
       "    .dataframe thead th {\n",
       "        text-align: right;\n",
       "    }\n",
       "</style>\n",
       "<table border=\"1\" class=\"dataframe\">\n",
       "  <thead>\n",
       "    <tr style=\"text-align: right;\">\n",
       "      <th></th>\n",
       "      <th>CreditScore</th>\n",
       "      <th>Age</th>\n",
       "      <th>Tenure</th>\n",
       "      <th>Balance</th>\n",
       "      <th>NumOfProducts</th>\n",
       "      <th>HasCrCard</th>\n",
       "      <th>IsActiveMember</th>\n",
       "      <th>EstimatedSalary</th>\n",
       "      <th>Exited</th>\n",
       "      <th>Geography_Germany</th>\n",
       "      <th>Geography_Spain</th>\n",
       "      <th>Gender_Male</th>\n",
       "    </tr>\n",
       "  </thead>\n",
       "  <tbody>\n",
       "    <tr>\n",
       "      <td>0</td>\n",
       "      <td>619</td>\n",
       "      <td>42</td>\n",
       "      <td>2.0</td>\n",
       "      <td>0.00</td>\n",
       "      <td>1</td>\n",
       "      <td>1</td>\n",
       "      <td>1</td>\n",
       "      <td>101348.88</td>\n",
       "      <td>1</td>\n",
       "      <td>0</td>\n",
       "      <td>0</td>\n",
       "      <td>0</td>\n",
       "    </tr>\n",
       "    <tr>\n",
       "      <td>1</td>\n",
       "      <td>608</td>\n",
       "      <td>41</td>\n",
       "      <td>1.0</td>\n",
       "      <td>83807.86</td>\n",
       "      <td>1</td>\n",
       "      <td>0</td>\n",
       "      <td>1</td>\n",
       "      <td>112542.58</td>\n",
       "      <td>0</td>\n",
       "      <td>0</td>\n",
       "      <td>1</td>\n",
       "      <td>0</td>\n",
       "    </tr>\n",
       "    <tr>\n",
       "      <td>2</td>\n",
       "      <td>502</td>\n",
       "      <td>42</td>\n",
       "      <td>8.0</td>\n",
       "      <td>159660.80</td>\n",
       "      <td>3</td>\n",
       "      <td>1</td>\n",
       "      <td>0</td>\n",
       "      <td>113931.57</td>\n",
       "      <td>1</td>\n",
       "      <td>0</td>\n",
       "      <td>0</td>\n",
       "      <td>0</td>\n",
       "    </tr>\n",
       "    <tr>\n",
       "      <td>3</td>\n",
       "      <td>699</td>\n",
       "      <td>39</td>\n",
       "      <td>1.0</td>\n",
       "      <td>0.00</td>\n",
       "      <td>2</td>\n",
       "      <td>0</td>\n",
       "      <td>0</td>\n",
       "      <td>93826.63</td>\n",
       "      <td>0</td>\n",
       "      <td>0</td>\n",
       "      <td>0</td>\n",
       "      <td>0</td>\n",
       "    </tr>\n",
       "    <tr>\n",
       "      <td>4</td>\n",
       "      <td>850</td>\n",
       "      <td>43</td>\n",
       "      <td>2.0</td>\n",
       "      <td>125510.82</td>\n",
       "      <td>1</td>\n",
       "      <td>1</td>\n",
       "      <td>1</td>\n",
       "      <td>79084.10</td>\n",
       "      <td>0</td>\n",
       "      <td>0</td>\n",
       "      <td>1</td>\n",
       "      <td>0</td>\n",
       "    </tr>\n",
       "    <tr>\n",
       "      <td>5</td>\n",
       "      <td>645</td>\n",
       "      <td>44</td>\n",
       "      <td>8.0</td>\n",
       "      <td>113755.78</td>\n",
       "      <td>2</td>\n",
       "      <td>1</td>\n",
       "      <td>0</td>\n",
       "      <td>149756.71</td>\n",
       "      <td>1</td>\n",
       "      <td>0</td>\n",
       "      <td>1</td>\n",
       "      <td>1</td>\n",
       "    </tr>\n",
       "    <tr>\n",
       "      <td>6</td>\n",
       "      <td>822</td>\n",
       "      <td>50</td>\n",
       "      <td>7.0</td>\n",
       "      <td>0.00</td>\n",
       "      <td>2</td>\n",
       "      <td>1</td>\n",
       "      <td>1</td>\n",
       "      <td>10062.80</td>\n",
       "      <td>0</td>\n",
       "      <td>0</td>\n",
       "      <td>0</td>\n",
       "      <td>1</td>\n",
       "    </tr>\n",
       "    <tr>\n",
       "      <td>7</td>\n",
       "      <td>376</td>\n",
       "      <td>29</td>\n",
       "      <td>4.0</td>\n",
       "      <td>115046.74</td>\n",
       "      <td>4</td>\n",
       "      <td>1</td>\n",
       "      <td>0</td>\n",
       "      <td>119346.88</td>\n",
       "      <td>1</td>\n",
       "      <td>1</td>\n",
       "      <td>0</td>\n",
       "      <td>0</td>\n",
       "    </tr>\n",
       "    <tr>\n",
       "      <td>8</td>\n",
       "      <td>501</td>\n",
       "      <td>44</td>\n",
       "      <td>4.0</td>\n",
       "      <td>142051.07</td>\n",
       "      <td>2</td>\n",
       "      <td>0</td>\n",
       "      <td>1</td>\n",
       "      <td>74940.50</td>\n",
       "      <td>0</td>\n",
       "      <td>0</td>\n",
       "      <td>0</td>\n",
       "      <td>1</td>\n",
       "    </tr>\n",
       "    <tr>\n",
       "      <td>9</td>\n",
       "      <td>684</td>\n",
       "      <td>27</td>\n",
       "      <td>2.0</td>\n",
       "      <td>134603.88</td>\n",
       "      <td>1</td>\n",
       "      <td>1</td>\n",
       "      <td>1</td>\n",
       "      <td>71725.73</td>\n",
       "      <td>0</td>\n",
       "      <td>0</td>\n",
       "      <td>0</td>\n",
       "      <td>1</td>\n",
       "    </tr>\n",
       "  </tbody>\n",
       "</table>\n",
       "</div>"
      ],
      "text/plain": [
       "   CreditScore  Age  Tenure    Balance  NumOfProducts  HasCrCard  \\\n",
       "0          619   42     2.0       0.00              1          1   \n",
       "1          608   41     1.0   83807.86              1          0   \n",
       "2          502   42     8.0  159660.80              3          1   \n",
       "3          699   39     1.0       0.00              2          0   \n",
       "4          850   43     2.0  125510.82              1          1   \n",
       "5          645   44     8.0  113755.78              2          1   \n",
       "6          822   50     7.0       0.00              2          1   \n",
       "7          376   29     4.0  115046.74              4          1   \n",
       "8          501   44     4.0  142051.07              2          0   \n",
       "9          684   27     2.0  134603.88              1          1   \n",
       "\n",
       "   IsActiveMember  EstimatedSalary  Exited  Geography_Germany  \\\n",
       "0               1        101348.88       1                  0   \n",
       "1               1        112542.58       0                  0   \n",
       "2               0        113931.57       1                  0   \n",
       "3               0         93826.63       0                  0   \n",
       "4               1         79084.10       0                  0   \n",
       "5               0        149756.71       1                  0   \n",
       "6               1         10062.80       0                  0   \n",
       "7               0        119346.88       1                  1   \n",
       "8               1         74940.50       0                  0   \n",
       "9               1         71725.73       0                  0   \n",
       "\n",
       "   Geography_Spain  Gender_Male  \n",
       "0                0            0  \n",
       "1                1            0  \n",
       "2                0            0  \n",
       "3                0            0  \n",
       "4                1            0  \n",
       "5                1            1  \n",
       "6                0            1  \n",
       "7                0            0  \n",
       "8                0            1  \n",
       "9                0            1  "
      ]
     },
     "execution_count": 15,
     "metadata": {},
     "output_type": "execute_result"
    }
   ],
   "source": [
    "df.head(10)"
   ]
  },
  {
   "cell_type": "markdown",
   "metadata": {},
   "source": [
    "Данные готовы, можем переходить к анализу."
   ]
  },
  {
   "cell_type": "markdown",
   "metadata": {},
   "source": [
    "## 2. Исследуем баланс классов, обучим модель без учёта дисбаланса. "
   ]
  },
  {
   "cell_type": "markdown",
   "metadata": {},
   "source": [
    "Класс для анализа, то есть целевой признак - столбец Exited."
   ]
  },
  {
   "cell_type": "markdown",
   "metadata": {},
   "source": [
    "Классы для помощи в анализе - все остальные. Само собой, что для принятия решения моделью о том, что клиент останется или уйдет из банка, они будут иметь разный вес\n",
    "Попробуем обучить модели без учета этого дисбаланса. Воспользуемся библиотекой train_test_split из sklearn.model_selection. Так как спрятанной тестовой выборки нет, то данные нужно разбить на три части: обучающую, валидационную и тестовую. Размеры тестового и валидационного наборов обычно равны. Исходные данные разбивают в соотношении 3:1:1. Разделим исходную таблицу на обучающую(60%) и валидационную(40%), а после разделим валидационную на конечную валидационную(20%) и тестовую(20%). "
   ]
  },
  {
   "cell_type": "code",
   "execution_count": 16,
   "metadata": {},
   "outputs": [],
   "source": [
    "df_train, df_valid = train_test_split(df, test_size=0.4, random_state=12345)\n",
    "df_valid, df_test = train_test_split(df_valid, test_size=0.5, random_state=12345)"
   ]
  },
  {
   "cell_type": "markdown",
   "metadata": {},
   "source": [
    "Проверим разделение."
   ]
  },
  {
   "cell_type": "code",
   "execution_count": 17,
   "metadata": {},
   "outputs": [
    {
     "name": "stdout",
     "output_type": "stream",
     "text": [
      "<class 'pandas.core.frame.DataFrame'>\n",
      "Int64Index: 6000 entries, 7479 to 4578\n",
      "Data columns (total 12 columns):\n",
      "CreditScore          6000 non-null int64\n",
      "Age                  6000 non-null int64\n",
      "Tenure               6000 non-null float64\n",
      "Balance              6000 non-null float64\n",
      "NumOfProducts        6000 non-null int64\n",
      "HasCrCard            6000 non-null int64\n",
      "IsActiveMember       6000 non-null int64\n",
      "EstimatedSalary      6000 non-null float64\n",
      "Exited               6000 non-null int64\n",
      "Geography_Germany    6000 non-null uint8\n",
      "Geography_Spain      6000 non-null uint8\n",
      "Gender_Male          6000 non-null uint8\n",
      "dtypes: float64(3), int64(6), uint8(3)\n",
      "memory usage: 486.3 KB\n"
     ]
    }
   ],
   "source": [
    "df_train.info()"
   ]
  },
  {
   "cell_type": "markdown",
   "metadata": {},
   "source": [
    "60%"
   ]
  },
  {
   "cell_type": "code",
   "execution_count": 18,
   "metadata": {},
   "outputs": [
    {
     "name": "stdout",
     "output_type": "stream",
     "text": [
      "<class 'pandas.core.frame.DataFrame'>\n",
      "Int64Index: 2000 entries, 8532 to 6895\n",
      "Data columns (total 12 columns):\n",
      "CreditScore          2000 non-null int64\n",
      "Age                  2000 non-null int64\n",
      "Tenure               2000 non-null float64\n",
      "Balance              2000 non-null float64\n",
      "NumOfProducts        2000 non-null int64\n",
      "HasCrCard            2000 non-null int64\n",
      "IsActiveMember       2000 non-null int64\n",
      "EstimatedSalary      2000 non-null float64\n",
      "Exited               2000 non-null int64\n",
      "Geography_Germany    2000 non-null uint8\n",
      "Geography_Spain      2000 non-null uint8\n",
      "Gender_Male          2000 non-null uint8\n",
      "dtypes: float64(3), int64(6), uint8(3)\n",
      "memory usage: 162.1 KB\n"
     ]
    }
   ],
   "source": [
    "df_valid.info()"
   ]
  },
  {
   "cell_type": "markdown",
   "metadata": {},
   "source": [
    "20%"
   ]
  },
  {
   "cell_type": "code",
   "execution_count": 19,
   "metadata": {},
   "outputs": [
    {
     "name": "stdout",
     "output_type": "stream",
     "text": [
      "<class 'pandas.core.frame.DataFrame'>\n",
      "Int64Index: 2000 entries, 7041 to 3366\n",
      "Data columns (total 12 columns):\n",
      "CreditScore          2000 non-null int64\n",
      "Age                  2000 non-null int64\n",
      "Tenure               2000 non-null float64\n",
      "Balance              2000 non-null float64\n",
      "NumOfProducts        2000 non-null int64\n",
      "HasCrCard            2000 non-null int64\n",
      "IsActiveMember       2000 non-null int64\n",
      "EstimatedSalary      2000 non-null float64\n",
      "Exited               2000 non-null int64\n",
      "Geography_Germany    2000 non-null uint8\n",
      "Geography_Spain      2000 non-null uint8\n",
      "Gender_Male          2000 non-null uint8\n",
      "dtypes: float64(3), int64(6), uint8(3)\n",
      "memory usage: 162.1 KB\n"
     ]
    }
   ],
   "source": [
    "df_test.info()"
   ]
  },
  {
   "cell_type": "markdown",
   "metadata": {},
   "source": [
    "20%"
   ]
  },
  {
   "cell_type": "markdown",
   "metadata": {},
   "source": [
    "Приступим к обучению. Для исследования качества моделей нам необходимо определить на какой информации модель учится и какие ответы ищет. Определим для нее features и target на основе обучающей выборки."
   ]
  },
  {
   "cell_type": "code",
   "execution_count": 20,
   "metadata": {},
   "outputs": [],
   "source": [
    "features = df_train.drop(['Exited'], axis=1)\n",
    "target = df_train['Exited']"
   ]
  },
  {
   "cell_type": "markdown",
   "metadata": {},
   "source": [
    "Также определеим сразу features и target для тестовой и валидационной выборок."
   ]
  },
  {
   "cell_type": "code",
   "execution_count": 21,
   "metadata": {},
   "outputs": [],
   "source": [
    "features_test = df_test.drop(['Exited'], axis=1)\n",
    "target_test = df_test['Exited']\n",
    "features_valid = df_valid.drop(['Exited'], axis=1)\n",
    "target_valid = df_valid['Exited']"
   ]
  },
  {
   "cell_type": "markdown",
   "metadata": {},
   "source": [
    "Начнем с модели решающего дерева. При помощи цикла переберем разную глубину и получим наиболее высокое значение f1."
   ]
  },
  {
   "cell_type": "code",
   "execution_count": 22,
   "metadata": {},
   "outputs": [
    {
     "data": {
      "text/html": [
       "<div>\n",
       "<style scoped>\n",
       "    .dataframe tbody tr th:only-of-type {\n",
       "        vertical-align: middle;\n",
       "    }\n",
       "\n",
       "    .dataframe tbody tr th {\n",
       "        vertical-align: top;\n",
       "    }\n",
       "\n",
       "    .dataframe thead th {\n",
       "        text-align: right;\n",
       "    }\n",
       "</style>\n",
       "<table border=\"1\" class=\"dataframe\">\n",
       "  <thead>\n",
       "    <tr style=\"text-align: right;\">\n",
       "      <th></th>\n",
       "      <th>f1</th>\n",
       "      <th>n</th>\n",
       "      <th>auc_roc</th>\n",
       "    </tr>\n",
       "  </thead>\n",
       "  <tbody>\n",
       "    <tr>\n",
       "      <td>7</td>\n",
       "      <td>0.578652</td>\n",
       "      <td>9</td>\n",
       "      <td>0.789972</td>\n",
       "    </tr>\n",
       "  </tbody>\n",
       "</table>\n",
       "</div>"
      ],
      "text/plain": [
       "         f1  n   auc_roc\n",
       "7  0.578652  9  0.789972"
      ]
     },
     "execution_count": 22,
     "metadata": {},
     "output_type": "execute_result"
    }
   ],
   "source": [
    "n1 = []\n",
    "ar1=[]\n",
    "f1_1=[]\n",
    "\n",
    "for n in range(2, 200):\n",
    "    model_dec_tree = DecisionTreeClassifier(random_state=12345, max_depth=n)\n",
    "    model_dec_tree.fit(features, target)\n",
    "    predicted_valid_dec_tree = model_dec_tree.predict(features_valid)\n",
    "    f1_1.append(f1_score(target_valid, predicted_valid_dec_tree))\n",
    "    probabilities_valid_dec_tree = model_dec_tree.predict_proba(features_valid)\n",
    "    probabilities_one_valid_dec_tree = probabilities_valid_dec_tree[:, 1]\n",
    "    n1.append(n)\n",
    "    ar1.append(roc_auc_score(target_valid, probabilities_one_valid_dec_tree))\n",
    "\n",
    "    \n",
    "\n",
    "f1_1 = pd.DataFrame(f1_1, columns = ['f1'])\n",
    "n1 = pd.DataFrame(n1, columns = ['n'])\n",
    "ar1 = pd.DataFrame(ar1, columns = ['auc_roc'])\n",
    "mdt = f1_1.join(n1)\n",
    "mdt = mdt.join(ar1)\n",
    "mdt[mdt['f1']==mdt['f1'].max()]\n"
   ]
  },
  {
   "cell_type": "markdown",
   "metadata": {},
   "source": [
    "Наибольшее возможное значение f1 мы получили при глубине 7 - 0.578. Auc-Roc при этом равен 0.789. Недостаточно, переходим к следующей модели."
   ]
  },
  {
   "cell_type": "markdown",
   "metadata": {},
   "source": [
    "Перейдем к модели случайного леса. Библиотека RandomForestClassifier уже импортирована. Создадим для этой модели имя model_random_tree_class, зафиксируем псевдослучайность алгоритма на показателе 12345, а для различных показателей количества деревьев напишем цикл - подберем модель с наивысшем accuracy. "
   ]
  },
  {
   "cell_type": "code",
   "execution_count": 23,
   "metadata": {},
   "outputs": [
    {
     "data": {
      "text/html": [
       "<div>\n",
       "<style scoped>\n",
       "    .dataframe tbody tr th:only-of-type {\n",
       "        vertical-align: middle;\n",
       "    }\n",
       "\n",
       "    .dataframe tbody tr th {\n",
       "        vertical-align: top;\n",
       "    }\n",
       "\n",
       "    .dataframe thead th {\n",
       "        text-align: right;\n",
       "    }\n",
       "</style>\n",
       "<table border=\"1\" class=\"dataframe\">\n",
       "  <thead>\n",
       "    <tr style=\"text-align: right;\">\n",
       "      <th></th>\n",
       "      <th>f1</th>\n",
       "      <th>n</th>\n",
       "      <th>auc_roc</th>\n",
       "    </tr>\n",
       "  </thead>\n",
       "  <tbody>\n",
       "    <tr>\n",
       "      <td>40</td>\n",
       "      <td>0.595065</td>\n",
       "      <td>41</td>\n",
       "      <td>0.837726</td>\n",
       "    </tr>\n",
       "  </tbody>\n",
       "</table>\n",
       "</div>"
      ],
      "text/plain": [
       "          f1   n   auc_roc\n",
       "40  0.595065  41  0.837726"
      ]
     },
     "execution_count": 23,
     "metadata": {},
     "output_type": "execute_result"
    }
   ],
   "source": [
    "n2 = []\n",
    "ar2=[]\n",
    "f1_2=[]\n",
    "\n",
    "for n in range(1, 200):\n",
    "    model_random_tree_class = RandomForestClassifier(random_state=12345, n_estimators=n)\n",
    "    model_random_tree_class.fit(features, target)\n",
    "    predicted_valid_rand_tree = model_random_tree_class.predict(features_valid)\n",
    "    probabilities_valid_rand_tree = model_random_tree_class.predict_proba(features_valid)\n",
    "    probabilities_one_valid_rand_tree = probabilities_valid_rand_tree[:, 1]\n",
    "    ar2.append(roc_auc_score(target_valid, probabilities_one_valid_rand_tree))\n",
    "    f1_2.append(f1_score(target_valid, predicted_valid_rand_tree))\n",
    "    n2.append(n)\n",
    " \n",
    "    \n",
    "\n",
    "    \n",
    "f1_2 = pd.DataFrame(f1_2, columns = ['f1'])\n",
    "n2 = pd.DataFrame(n2, columns = ['n'])\n",
    "ar2 = pd.DataFrame(ar2, columns = ['auc_roc'])\n",
    "mrt = f1_2.join(n2)\n",
    "mrt = mrt.join(ar2)\n",
    "mrt[mrt['f1']==mrt['f1'].max()]\n"
   ]
  },
  {
   "cell_type": "markdown",
   "metadata": {},
   "source": [
    "Лучший показатель у модели с 41 деревом - f1 = 0.595, Auc-Roc = 0.837. Выше требуемых показателей, запомним эту модель."
   ]
  },
  {
   "cell_type": "markdown",
   "metadata": {},
   "source": [
    "Теперь попробуем логистическую регрессию."
   ]
  },
  {
   "cell_type": "code",
   "execution_count": 24,
   "metadata": {},
   "outputs": [
    {
     "name": "stdout",
     "output_type": "stream",
     "text": [
      "0.857\n"
     ]
    }
   ],
   "source": [
    "model_log_reg = LogisticRegression(random_state=12345, solver='liblinear')\n",
    "model_log_reg.fit(features, target)\n",
    "predictions_log_reg = model_random_tree_class.predict(features_valid)\n",
    "print(accuracy_score(target_valid, predictions_log_reg))"
   ]
  },
  {
   "cell_type": "markdown",
   "metadata": {},
   "source": [
    "Показатель - 0.8525. Очень схоже с лесом и деревом. Оценим метрики."
   ]
  },
  {
   "cell_type": "code",
   "execution_count": 25,
   "metadata": {},
   "outputs": [
    {
     "name": "stdout",
     "output_type": "stream",
     "text": [
      "Auc-Roc: 0.6727584246214894\n",
      "f1: 0.08385744234800838\n"
     ]
    }
   ],
   "source": [
    "predicted_valid_log_reg = model_log_reg.predict(features_valid)\n",
    "probabilities_valid_log_reg = model_log_reg.predict_proba(features_valid)\n",
    "probabilities_one_valid_log_reg = probabilities_valid_log_reg[:, 1]\n",
    "auc_roc_log_reg = roc_auc_score(target_valid, probabilities_one_valid_log_reg)\n",
    "\n",
    "print(\"Auc-Roc:\", auc_roc_log_reg)\n",
    "print(\"f1:\", f1_score(target_valid, predicted_valid_log_reg))"
   ]
  },
  {
   "cell_type": "markdown",
   "metadata": {},
   "source": [
    "f1 очень плох. Требуемые модели не найдены."
   ]
  },
  {
   "cell_type": "markdown",
   "metadata": {},
   "source": [
    "Проверим дисбаланс целевого признака. Если всех клиентов в столбце Exited принять за 1, то доля клиентов оставшихся в банке будет показателем, от которого надо отталкиваться. Посчитаем это значение.\n"
   ]
  },
  {
   "cell_type": "code",
   "execution_count": 26,
   "metadata": {},
   "outputs": [
    {
     "data": {
      "text/plain": [
       "0.7963"
      ]
     },
     "execution_count": 26,
     "metadata": {},
     "output_type": "execute_result"
    }
   ],
   "source": [
    "adeq = len(df.query('Exited == 0')) / len(df['Exited'])\n",
    "adeq"
   ]
  },
  {
   "cell_type": "markdown",
   "metadata": {},
   "source": [
    "Получаем отметку в 0.7963, что свидетельствует о сильном дисбалансе целевого признака. Необходимо сбалансировать классы и уже после этого искать подходящую модель."
   ]
  },
  {
   "cell_type": "markdown",
   "metadata": {},
   "source": [
    "## Вывод"
   ]
  },
  {
   "cell_type": "markdown",
   "metadata": {},
   "source": [
    "Перебрав модели и изучив их основные метрики можно придти к заключению, что дисбаланс исходных данных слишком сильно влияет на точность и полноту в худшую сторону. Но при этой данности лучше всего себя показывает модель случайного леса. Необходимо сбалансировать классы и продолжить исследование."
   ]
  },
  {
   "cell_type": "markdown",
   "metadata": {},
   "source": [
    "## 3. Улучшим качество модели, учитывая дисбаланс классов. Обучим разные модели и найдем лучшую. "
   ]
  },
  {
   "cell_type": "markdown",
   "metadata": {},
   "source": [
    "Начнем с логистической регрессии, используем удобный параметр class_weight, способный самостоятельно сбалансировать классы. Сразу посчитаем ее f1 и auc-roc."
   ]
  },
  {
   "cell_type": "code",
   "execution_count": 27,
   "metadata": {},
   "outputs": [
    {
     "name": "stdout",
     "output_type": "stream",
     "text": [
      "f1: 0.48833333333333334\n",
      "Auc-Roc: 0.7542765804293519\n"
     ]
    }
   ],
   "source": [
    "model_log_reg = LogisticRegression(random_state=12345, solver='liblinear', class_weight='balanced')\n",
    "model_log_reg.fit(features, target)\n",
    "predictions_log_reg = model_log_reg.predict(features_valid)\n",
    "predicted_valid_log_reg = model_log_reg.predict(features_valid)\n",
    "print(\"f1:\", f1_score(target_valid, predicted_valid_log_reg))\n",
    "probabilities_valid_log_reg = model_log_reg.predict_proba(features_valid)\n",
    "probabilities_one_valid_log_reg = probabilities_valid_log_reg[:, 1]\n",
    "auc_roc_log_reg = roc_auc_score(target_valid, probabilities_one_valid_log_reg)\n",
    "print(\"Auc-Roc:\", auc_roc_log_reg)"
   ]
  },
  {
   "cell_type": "markdown",
   "metadata": {},
   "source": [
    "Достаточно далеко от требуемых значений. Перейдем к следующей модели."
   ]
  },
  {
   "cell_type": "markdown",
   "metadata": {},
   "source": [
    "Изучим случайный лес с тем же параметром."
   ]
  },
  {
   "cell_type": "code",
   "execution_count": 28,
   "metadata": {},
   "outputs": [
    {
     "data": {
      "text/html": [
       "<div>\n",
       "<style scoped>\n",
       "    .dataframe tbody tr th:only-of-type {\n",
       "        vertical-align: middle;\n",
       "    }\n",
       "\n",
       "    .dataframe tbody tr th {\n",
       "        vertical-align: top;\n",
       "    }\n",
       "\n",
       "    .dataframe thead th {\n",
       "        text-align: right;\n",
       "    }\n",
       "</style>\n",
       "<table border=\"1\" class=\"dataframe\">\n",
       "  <thead>\n",
       "    <tr style=\"text-align: right;\">\n",
       "      <th></th>\n",
       "      <th>f1</th>\n",
       "      <th>n</th>\n",
       "      <th>auc_roc</th>\n",
       "    </tr>\n",
       "  </thead>\n",
       "  <tbody>\n",
       "    <tr>\n",
       "      <td>46</td>\n",
       "      <td>0.571429</td>\n",
       "      <td>47</td>\n",
       "      <td>0.835791</td>\n",
       "    </tr>\n",
       "  </tbody>\n",
       "</table>\n",
       "</div>"
      ],
      "text/plain": [
       "          f1   n   auc_roc\n",
       "46  0.571429  47  0.835791"
      ]
     },
     "execution_count": 28,
     "metadata": {},
     "output_type": "execute_result"
    }
   ],
   "source": [
    "n3 = []\n",
    "ar3=[]\n",
    "f1_3=[]\n",
    "\n",
    "for n in range(1, 200):\n",
    "    model_random_tree_class = RandomForestClassifier(random_state=12345, n_estimators=n, class_weight = 'balanced')\n",
    "    model_random_tree_class.fit(features, target)\n",
    "    predicted_valid_rand_tree = model_random_tree_class.predict(features_valid)\n",
    "    probabilities_valid_rand_tree = model_random_tree_class.predict_proba(features_valid)\n",
    "    probabilities_one_valid_rand_tree = probabilities_valid_rand_tree[:, 1]\n",
    "    ar3.append(roc_auc_score(target_valid, probabilities_one_valid_rand_tree))\n",
    "    f1_3.append(f1_score(target_valid, predicted_valid_rand_tree))\n",
    "    n3.append(n)\n",
    " \n",
    "    \n",
    "\n",
    "    \n",
    "f1_3 = pd.DataFrame(f1_3, columns = ['f1'])\n",
    "n3 = pd.DataFrame(n3, columns = ['n'])\n",
    "ar3 = pd.DataFrame(ar3, columns = ['auc_roc'])\n",
    "mrtb = f1_3.join(n3)\n",
    "mrtb = mrtb.join(ar3)\n",
    "mrtb[mrtb['f1']==mrtb['f1'].max()]\n"
   ]
  },
  {
   "cell_type": "markdown",
   "metadata": {},
   "source": [
    "Значительно лучше, чем у логистической регрессии - f1 = 0.571 и Auc-Roc = 0.835 при 47 деревьях. Но все равно недостаточно."
   ]
  },
  {
   "cell_type": "markdown",
   "metadata": {},
   "source": [
    "Попробуем обучить модель решающего дерева."
   ]
  },
  {
   "cell_type": "code",
   "execution_count": 29,
   "metadata": {},
   "outputs": [
    {
     "data": {
      "text/html": [
       "<div>\n",
       "<style scoped>\n",
       "    .dataframe tbody tr th:only-of-type {\n",
       "        vertical-align: middle;\n",
       "    }\n",
       "\n",
       "    .dataframe tbody tr th {\n",
       "        vertical-align: top;\n",
       "    }\n",
       "\n",
       "    .dataframe thead th {\n",
       "        text-align: right;\n",
       "    }\n",
       "</style>\n",
       "<table border=\"1\" class=\"dataframe\">\n",
       "  <thead>\n",
       "    <tr style=\"text-align: right;\">\n",
       "      <th></th>\n",
       "      <th>f1</th>\n",
       "      <th>n</th>\n",
       "      <th>auc_roc</th>\n",
       "    </tr>\n",
       "  </thead>\n",
       "  <tbody>\n",
       "    <tr>\n",
       "      <td>3</td>\n",
       "      <td>0.596379</td>\n",
       "      <td>5</td>\n",
       "      <td>0.831024</td>\n",
       "    </tr>\n",
       "  </tbody>\n",
       "</table>\n",
       "</div>"
      ],
      "text/plain": [
       "         f1  n   auc_roc\n",
       "3  0.596379  5  0.831024"
      ]
     },
     "execution_count": 29,
     "metadata": {},
     "output_type": "execute_result"
    }
   ],
   "source": [
    "n4 = []\n",
    "ar4=[]\n",
    "f1_4=[]\n",
    "\n",
    "for n in range(2, 200):\n",
    "    model_dec_tree = DecisionTreeClassifier(random_state=12345, max_depth=n, class_weight = 'balanced')\n",
    "    model_dec_tree.fit(features, target)\n",
    "    predicted_valid_dec_tree = model_dec_tree.predict(features_valid)\n",
    "    f1_4.append(f1_score(target_valid, predicted_valid_dec_tree))\n",
    "    probabilities_valid_dec_tree = model_dec_tree.predict_proba(features_valid)\n",
    "    probabilities_one_valid_dec_tree = probabilities_valid_dec_tree[:, 1]\n",
    "    n4.append(n)\n",
    "    ar4.append(roc_auc_score(target_valid, probabilities_one_valid_dec_tree))\n",
    "\n",
    "    \n",
    "\n",
    "f1_4 = pd.DataFrame(f1_4, columns = ['f1'])\n",
    "n4 = pd.DataFrame(n4, columns = ['n'])\n",
    "ar4 = pd.DataFrame(ar4, columns = ['auc_roc'])\n",
    "mdtb = f1_4.join(n4)\n",
    "mdtb = mdtb.join(ar4)\n",
    "mdtb[mdtb['f1']==mdtb['f1'].max()]   "
   ]
  },
  {
   "cell_type": "markdown",
   "metadata": {},
   "source": [
    "Нам необходимо выбрать наиболее перспективную модель, учитывая дисбаланс классов, чтобы взять ее на тестовый прогон. Определяющей метрикой является f1 и по ней предпочтительнее выглядит модель решающего дерева с глубиной 5, f1 равным 0.596 и Auc-Roc равным 0.831. Очевидный фаворит. Забираем."
   ]
  },
  {
   "cell_type": "markdown",
   "metadata": {},
   "source": [
    "Теперь попробуем достичь максимально показателя f1 путем увеличения выборки. Начнем с логистической регрессии. Сначала напишем функцию для увеличения выборки, а после попробуем подобрать модель."
   ]
  },
  {
   "cell_type": "code",
   "execution_count": 31,
   "metadata": {},
   "outputs": [],
   "source": [
    "def upsample(features, target, repeat):\n",
    "    features_zeros = features[target == 0]\n",
    "    features_ones = features[target == 1]\n",
    "    target_zeros = target[target == 0]\n",
    "    target_ones = target[target == 1]\n",
    "\n",
    "    features_upsampled = pd.concat([features_zeros] + [features_ones] * repeat)\n",
    "    target_upsampled = pd.concat([target_zeros] + [target_ones] * repeat)\n",
    "    \n",
    "    features_upsampled, target_upsampled = shuffle(\n",
    "        features_upsampled, target_upsampled, random_state=12345)\n",
    "    \n",
    "    return features_upsampled, target_upsampled\n",
    "\n",
    "features_upsampled, target_upsampled = upsample(features, target, 4)"
   ]
  },
  {
   "cell_type": "code",
   "execution_count": 32,
   "metadata": {},
   "outputs": [
    {
     "name": "stdout",
     "output_type": "stream",
     "text": [
      "f1: 0.45286059629331177\n",
      "Auc-Roc: 0.719318408652363\n"
     ]
    }
   ],
   "source": [
    "model_log_reg = LogisticRegression(random_state=12345, solver='liblinear')\n",
    "model_log_reg.fit(features_upsampled, target_upsampled)\n",
    "predictions_log_reg = model_log_reg.predict(features_valid)\n",
    "predicted_valid_log_reg = model_log_reg.predict(features_valid)\n",
    "print(\"f1:\", f1_score(target_valid, predicted_valid_log_reg))\n",
    "probabilities_valid_log_reg = model_log_reg.predict_proba(features_valid)\n",
    "probabilities_one_valid_log_reg = probabilities_valid_log_reg[:, 1]\n",
    "auc_roc_log_reg = roc_auc_score(target_valid, probabilities_one_valid_log_reg)\n",
    "print(\"Auc-Roc:\", auc_roc_log_reg)"
   ]
  },
  {
   "cell_type": "markdown",
   "metadata": {},
   "source": [
    "f1 = 0.460 - неудача. Идем в случайный лес."
   ]
  },
  {
   "cell_type": "code",
   "execution_count": 33,
   "metadata": {},
   "outputs": [
    {
     "data": {
      "text/html": [
       "<div>\n",
       "<style scoped>\n",
       "    .dataframe tbody tr th:only-of-type {\n",
       "        vertical-align: middle;\n",
       "    }\n",
       "\n",
       "    .dataframe tbody tr th {\n",
       "        vertical-align: top;\n",
       "    }\n",
       "\n",
       "    .dataframe thead th {\n",
       "        text-align: right;\n",
       "    }\n",
       "</style>\n",
       "<table border=\"1\" class=\"dataframe\">\n",
       "  <thead>\n",
       "    <tr style=\"text-align: right;\">\n",
       "      <th></th>\n",
       "      <th>f1</th>\n",
       "      <th>n</th>\n",
       "      <th>auc_roc</th>\n",
       "    </tr>\n",
       "  </thead>\n",
       "  <tbody>\n",
       "    <tr>\n",
       "      <td>178</td>\n",
       "      <td>0.611765</td>\n",
       "      <td>179</td>\n",
       "      <td>0.838189</td>\n",
       "    </tr>\n",
       "  </tbody>\n",
       "</table>\n",
       "</div>"
      ],
      "text/plain": [
       "           f1    n   auc_roc\n",
       "178  0.611765  179  0.838189"
      ]
     },
     "execution_count": 33,
     "metadata": {},
     "output_type": "execute_result"
    }
   ],
   "source": [
    "n5 = []\n",
    "ar5=[]\n",
    "f1_5=[]\n",
    "\n",
    "for n in range(1, 200):\n",
    "    model_random_tree_class = RandomForestClassifier(random_state=12345, n_estimators=n)\n",
    "    model_random_tree_class.fit(features_upsampled, target_upsampled)\n",
    "    predicted_valid_rand_tree = model_random_tree_class.predict(features_valid)\n",
    "    probabilities_valid_rand_tree = model_random_tree_class.predict_proba(features_valid)\n",
    "    probabilities_one_valid_rand_tree = probabilities_valid_rand_tree[:, 1]\n",
    "    ar5.append(roc_auc_score(target_valid, probabilities_one_valid_rand_tree))\n",
    "    f1_5.append(f1_score(target_valid, predicted_valid_rand_tree))\n",
    "    n5.append(n)\n",
    " \n",
    "    \n",
    "\n",
    "    \n",
    "f1_5 = pd.DataFrame(f1_5, columns = ['f1'])\n",
    "n5 = pd.DataFrame(n5, columns = ['n'])\n",
    "ar5 = pd.DataFrame(ar5, columns = ['auc_roc'])\n",
    "mrtu = f1_5.join(n5)\n",
    "mrtu = mrtu.join(ar5)\n",
    "mrtu[mrtu['f1']==mrtu['f1'].max()]"
   ]
  },
  {
   "cell_type": "markdown",
   "metadata": {},
   "source": [
    "Есть улучшение. При параметре количества деревьев 179 мы получили пиковый показатель f1 в 0.611, Auc-Roc равен 0.838. Пока лучший результат. Перейдем к решающему дереву."
   ]
  },
  {
   "cell_type": "code",
   "execution_count": 34,
   "metadata": {},
   "outputs": [
    {
     "data": {
      "text/html": [
       "<div>\n",
       "<style scoped>\n",
       "    .dataframe tbody tr th:only-of-type {\n",
       "        vertical-align: middle;\n",
       "    }\n",
       "\n",
       "    .dataframe tbody tr th {\n",
       "        vertical-align: top;\n",
       "    }\n",
       "\n",
       "    .dataframe thead th {\n",
       "        text-align: right;\n",
       "    }\n",
       "</style>\n",
       "<table border=\"1\" class=\"dataframe\">\n",
       "  <thead>\n",
       "    <tr style=\"text-align: right;\">\n",
       "      <th></th>\n",
       "      <th>f1</th>\n",
       "      <th>n</th>\n",
       "      <th>auc_roc</th>\n",
       "    </tr>\n",
       "  </thead>\n",
       "  <tbody>\n",
       "    <tr>\n",
       "      <td>3</td>\n",
       "      <td>0.596379</td>\n",
       "      <td>5</td>\n",
       "      <td>0.831024</td>\n",
       "    </tr>\n",
       "  </tbody>\n",
       "</table>\n",
       "</div>"
      ],
      "text/plain": [
       "         f1  n   auc_roc\n",
       "3  0.596379  5  0.831024"
      ]
     },
     "execution_count": 34,
     "metadata": {},
     "output_type": "execute_result"
    }
   ],
   "source": [
    "n6 = []\n",
    "ar6=[]\n",
    "f1_6=[]\n",
    "\n",
    "for n in range(2, 10):\n",
    "    model_dec_tree_up = DecisionTreeClassifier(random_state=12345, max_depth=n)\n",
    "    model_dec_tree_up.fit(features_upsampled, target_upsampled)\n",
    "    predicted_valid_dec_tree = model_dec_tree_up.predict(features_valid)\n",
    "    f1_6.append(f1_score(target_valid, predicted_valid_dec_tree))\n",
    "    probabilities_valid_dec_tree = model_dec_tree_up.predict_proba(features_valid)\n",
    "    probabilities_one_valid_dec_tree = probabilities_valid_dec_tree[:, 1]\n",
    "    n6.append(n)\n",
    "    ar6.append(roc_auc_score(target_valid, probabilities_one_valid_dec_tree))\n",
    "\n",
    "    \n",
    "\n",
    "f1_6 = pd.DataFrame(f1_6, columns = ['f1'])\n",
    "n6 = pd.DataFrame(n6, columns = ['n'])\n",
    "ar6 = pd.DataFrame(ar6, columns = ['auc_roc'])\n",
    "mdtu = f1_6.join(n6)\n",
    "mdtu = mdtu.join(ar6)\n",
    "mdtu[mdtu['f1']==mdtu['f1'].max()]\n"
   ]
  },
  {
   "cell_type": "markdown",
   "metadata": {},
   "source": [
    "Здесь не получилось того же эффекта. Перейдем к уменьшению выборки. Напишем функцию, уменьшим выборку и запустим модели."
   ]
  },
  {
   "cell_type": "code",
   "execution_count": 36,
   "metadata": {},
   "outputs": [],
   "source": [
    "def downsample(features, target, fraction):\n",
    "    features_zeros = features[target == 0]\n",
    "    features_ones = features[target == 1]\n",
    "    target_zeros = target[target == 0]\n",
    "    target_ones = target[target == 1]\n",
    "\n",
    "    features_downsampled = pd.concat(\n",
    "        [features_zeros.sample(frac=fraction, random_state=12345)] + [features_ones])\n",
    "    target_downsampled = pd.concat(\n",
    "        [target_zeros.sample(frac=fraction, random_state=12345)] + [target_ones])\n",
    "    \n",
    "    features_downsampled, target_downsampled = shuffle(\n",
    "        features_downsampled, target_downsampled, random_state=12345)\n",
    "    \n",
    "    return features_downsampled, target_downsampled\n",
    "\n",
    "features_downsampled, target_downsampled = downsample(features, target, 0.25)"
   ]
  },
  {
   "cell_type": "markdown",
   "metadata": {},
   "source": [
    "И вновь, начнем с логистической регрессии."
   ]
  },
  {
   "cell_type": "code",
   "execution_count": 37,
   "metadata": {},
   "outputs": [
    {
     "name": "stdout",
     "output_type": "stream",
     "text": [
      "f1: 0.45337620578778143\n",
      "Auc-Roc: 0.7262822180148683\n"
     ]
    }
   ],
   "source": [
    "model_log_reg = LogisticRegression(random_state=12345, solver='liblinear')\n",
    "model_log_reg.fit(features_downsampled, target_downsampled)\n",
    "predictions_log_reg = model_log_reg.predict(features_valid)\n",
    "predicted_valid_log_reg = model_log_reg.predict(features_valid)\n",
    "print(\"f1:\", f1_score(target_valid, predicted_valid_log_reg))\n",
    "probabilities_valid_log_reg = model_log_reg.predict_proba(features_valid)\n",
    "probabilities_one_valid_log_reg = probabilities_valid_log_reg[:, 1]\n",
    "auc_roc_log_reg = roc_auc_score(target_valid, probabilities_one_valid_log_reg)\n",
    "print(\"Auc-Roc:\", auc_roc_log_reg)"
   ]
  },
  {
   "cell_type": "markdown",
   "metadata": {},
   "source": [
    "Также как и у upsampling. Идем в лес."
   ]
  },
  {
   "cell_type": "code",
   "execution_count": 38,
   "metadata": {},
   "outputs": [
    {
     "data": {
      "text/html": [
       "<div>\n",
       "<style scoped>\n",
       "    .dataframe tbody tr th:only-of-type {\n",
       "        vertical-align: middle;\n",
       "    }\n",
       "\n",
       "    .dataframe tbody tr th {\n",
       "        vertical-align: top;\n",
       "    }\n",
       "\n",
       "    .dataframe thead th {\n",
       "        text-align: right;\n",
       "    }\n",
       "</style>\n",
       "<table border=\"1\" class=\"dataframe\">\n",
       "  <thead>\n",
       "    <tr style=\"text-align: right;\">\n",
       "      <th></th>\n",
       "      <th>f1</th>\n",
       "      <th>n</th>\n",
       "      <th>auc_roc</th>\n",
       "    </tr>\n",
       "  </thead>\n",
       "  <tbody>\n",
       "    <tr>\n",
       "      <td>49</td>\n",
       "      <td>0.596759</td>\n",
       "      <td>50</td>\n",
       "      <td>0.843749</td>\n",
       "    </tr>\n",
       "  </tbody>\n",
       "</table>\n",
       "</div>"
      ],
      "text/plain": [
       "          f1   n   auc_roc\n",
       "49  0.596759  50  0.843749"
      ]
     },
     "execution_count": 38,
     "metadata": {},
     "output_type": "execute_result"
    }
   ],
   "source": [
    "n7 = []\n",
    "ar7=[]\n",
    "f1_7=[]\n",
    "\n",
    "for n in range(1, 200):\n",
    "    model_random_tree_class = RandomForestClassifier(random_state=12345, n_estimators=n)\n",
    "    model_random_tree_class.fit(features_downsampled, target_downsampled)\n",
    "    predicted_valid_rand_tree = model_random_tree_class.predict(features_valid)\n",
    "    probabilities_valid_rand_tree = model_random_tree_class.predict_proba(features_valid)\n",
    "    probabilities_one_valid_rand_tree = probabilities_valid_rand_tree[:, 1]\n",
    "    ar7.append(roc_auc_score(target_valid, probabilities_one_valid_rand_tree))\n",
    "    f1_7.append(f1_score(target_valid, predicted_valid_rand_tree))\n",
    "    n7.append(n)\n",
    " \n",
    "    \n",
    "\n",
    "    \n",
    "f1_7 = pd.DataFrame(f1_7, columns = ['f1'])\n",
    "n7 = pd.DataFrame(n7, columns = ['n'])\n",
    "ar7 = pd.DataFrame(ar7, columns = ['auc_roc'])\n",
    "mrtd = f1_7.join(n7)\n",
    "mrtd = mrtd.join(ar7)\n",
    "mrtd[mrtd['f1']==mrtd['f1'].max()]"
   ]
  },
  {
   "cell_type": "markdown",
   "metadata": {},
   "source": [
    "Показатели хуже, чем при увеличении выборки. Может решающее дерево лучше отреагирует на этот метод?"
   ]
  },
  {
   "cell_type": "code",
   "execution_count": 39,
   "metadata": {},
   "outputs": [
    {
     "data": {
      "text/html": [
       "<div>\n",
       "<style scoped>\n",
       "    .dataframe tbody tr th:only-of-type {\n",
       "        vertical-align: middle;\n",
       "    }\n",
       "\n",
       "    .dataframe tbody tr th {\n",
       "        vertical-align: top;\n",
       "    }\n",
       "\n",
       "    .dataframe thead th {\n",
       "        text-align: right;\n",
       "    }\n",
       "</style>\n",
       "<table border=\"1\" class=\"dataframe\">\n",
       "  <thead>\n",
       "    <tr style=\"text-align: right;\">\n",
       "      <th></th>\n",
       "      <th>f1</th>\n",
       "      <th>n</th>\n",
       "      <th>auc_roc</th>\n",
       "    </tr>\n",
       "  </thead>\n",
       "  <tbody>\n",
       "    <tr>\n",
       "      <td>3</td>\n",
       "      <td>0.593117</td>\n",
       "      <td>5</td>\n",
       "      <td>0.822914</td>\n",
       "    </tr>\n",
       "  </tbody>\n",
       "</table>\n",
       "</div>"
      ],
      "text/plain": [
       "         f1  n   auc_roc\n",
       "3  0.593117  5  0.822914"
      ]
     },
     "execution_count": 39,
     "metadata": {},
     "output_type": "execute_result"
    }
   ],
   "source": [
    "n8 = []\n",
    "ar8=[]\n",
    "f1_8=[]\n",
    "\n",
    "for n in range(2, 200):\n",
    "    model_dec_tree = DecisionTreeClassifier(random_state=12345, max_depth=n)\n",
    "    model_dec_tree.fit(features_downsampled, target_downsampled)\n",
    "    predicted_valid_dec_tree = model_dec_tree.predict(features_valid)\n",
    "    f1_8.append(f1_score(target_valid, predicted_valid_dec_tree))\n",
    "    probabilities_valid_dec_tree = model_dec_tree.predict_proba(features_valid)\n",
    "    probabilities_one_valid_dec_tree = probabilities_valid_dec_tree[:, 1]\n",
    "    n8.append(n)\n",
    "    ar8.append(roc_auc_score(target_valid, probabilities_one_valid_dec_tree))\n",
    "\n",
    "    \n",
    "\n",
    "f1_8 = pd.DataFrame(f1_8, columns = ['f1'])\n",
    "n8 = pd.DataFrame(n8, columns = ['n'])\n",
    "ar8 = pd.DataFrame(ar8, columns = ['auc_roc'])\n",
    "mdtd = f1_8.join(n8)\n",
    "mdtd = mdtd.join(ar8)\n",
    "mdtd[mdtd['f1']==mdtd['f1'].max()]   "
   ]
  },
  {
   "cell_type": "markdown",
   "metadata": {},
   "source": [
    "К сожалению решающее дерево не поддалось нашим уговорам."
   ]
  },
  {
   "cell_type": "markdown",
   "metadata": {},
   "source": [
    "## Вывод."
   ]
  },
  {
   "cell_type": "markdown",
   "metadata": {},
   "source": [
    "В попытках нивелировать дисбаланс классов мы сначала оценили основные метрики на моделях логистической регрессии, решающего дерева и случайного леса при значении \"balanced\" параметра class_weight. Далее мы приступили к увеличению и уменьшению выборок на всех моделях. Оптимальным для нас оказалось увеличение выборки на модели случайного леса с 178 деревьями - достигнуто значение f1 в 0.611, что больше требуемых 0.59, а Auc-Roc равен 0.838."
   ]
  },
  {
   "cell_type": "markdown",
   "metadata": {},
   "source": [
    "## 4. Проведем финальное тестирование на тестовой выборке и сравним с AUC-ROC."
   ]
  },
  {
   "cell_type": "markdown",
   "metadata": {},
   "source": [
    "Приступим к финальному тестированию выбранной нами модели. Проведем его на тестовой выборке, посчитаем основные метрики и сравним f1 с Auc-Roc."
   ]
  },
  {
   "cell_type": "code",
   "execution_count": 40,
   "metadata": {},
   "outputs": [
    {
     "name": "stdout",
     "output_type": "stream",
     "text": [
      "f1: 0.5873015873015872\n",
      "Auc-Roc: 0.8527285701222208\n"
     ]
    }
   ],
   "source": [
    "model_up = RandomForestClassifier(random_state=12345, n_estimators=178)\n",
    "model_up.fit(features_upsampled, target_upsampled)    \n",
    "predictions_rand_tree = model_up.predict(features_test)\n",
    "predicted_test_rand_tree = model_up.predict(features_test)\n",
    "print(\"f1:\", f1_score(target_test, predicted_test_rand_tree))\n",
    "probabilities_test_rand_tree = model_up.predict_proba(features_test)\n",
    "probabilities_one_test_rand_tree = probabilities_test_rand_tree[:, 1]\n",
    "auc_roc_rand_tree = roc_auc_score(target_test, probabilities_one_test_rand_tree)\n",
    "print(\"Auc-Roc:\", auc_roc_rand_tree)"
   ]
  },
  {
   "cell_type": "markdown",
   "metadata": {},
   "source": [
    "Значение f1 на тестовой выборке снизилось на 0.024, до 0.587 и оно существенно меньше параметра Auc-Roc - 0.852. Нет требуемого показателя. Попробуем пойти от отбратного и напишем формулу для поиска удволетворяющей нас комбинации."
   ]
  },
  {
   "cell_type": "code",
   "execution_count": 41,
   "metadata": {},
   "outputs": [
    {
     "data": {
      "text/html": [
       "<div>\n",
       "<style scoped>\n",
       "    .dataframe tbody tr th:only-of-type {\n",
       "        vertical-align: middle;\n",
       "    }\n",
       "\n",
       "    .dataframe tbody tr th {\n",
       "        vertical-align: top;\n",
       "    }\n",
       "\n",
       "    .dataframe thead th {\n",
       "        text-align: right;\n",
       "    }\n",
       "</style>\n",
       "<table border=\"1\" class=\"dataframe\">\n",
       "  <thead>\n",
       "    <tr style=\"text-align: right;\">\n",
       "      <th></th>\n",
       "      <th>f1</th>\n",
       "      <th>n</th>\n",
       "      <th>auc_roc</th>\n",
       "      <th>f1_test</th>\n",
       "      <th>n_test</th>\n",
       "      <th>auc_roc_test</th>\n",
       "    </tr>\n",
       "  </thead>\n",
       "  <tbody>\n",
       "    <tr>\n",
       "      <td>110</td>\n",
       "      <td>0.603974</td>\n",
       "      <td>111</td>\n",
       "      <td>0.837504</td>\n",
       "      <td>0.591327</td>\n",
       "      <td>111</td>\n",
       "      <td>0.849963</td>\n",
       "    </tr>\n",
       "    <tr>\n",
       "      <td>111</td>\n",
       "      <td>0.600266</td>\n",
       "      <td>112</td>\n",
       "      <td>0.837668</td>\n",
       "      <td>0.590728</td>\n",
       "      <td>112</td>\n",
       "      <td>0.849721</td>\n",
       "    </tr>\n",
       "    <tr>\n",
       "      <td>112</td>\n",
       "      <td>0.603175</td>\n",
       "      <td>113</td>\n",
       "      <td>0.837768</td>\n",
       "      <td>0.593176</td>\n",
       "      <td>113</td>\n",
       "      <td>0.850097</td>\n",
       "    </tr>\n",
       "    <tr>\n",
       "      <td>114</td>\n",
       "      <td>0.603175</td>\n",
       "      <td>115</td>\n",
       "      <td>0.837744</td>\n",
       "      <td>0.591029</td>\n",
       "      <td>115</td>\n",
       "      <td>0.850344</td>\n",
       "    </tr>\n",
       "    <tr>\n",
       "      <td>116</td>\n",
       "      <td>0.604222</td>\n",
       "      <td>117</td>\n",
       "      <td>0.837997</td>\n",
       "      <td>0.594737</td>\n",
       "      <td>117</td>\n",
       "      <td>0.850460</td>\n",
       "    </tr>\n",
       "    <tr>\n",
       "      <td>117</td>\n",
       "      <td>0.599469</td>\n",
       "      <td>118</td>\n",
       "      <td>0.838093</td>\n",
       "      <td>0.592593</td>\n",
       "      <td>118</td>\n",
       "      <td>0.850508</td>\n",
       "    </tr>\n",
       "    <tr>\n",
       "      <td>118</td>\n",
       "      <td>0.604222</td>\n",
       "      <td>119</td>\n",
       "      <td>0.838083</td>\n",
       "      <td>0.591029</td>\n",
       "      <td>119</td>\n",
       "      <td>0.850482</td>\n",
       "    </tr>\n",
       "    <tr>\n",
       "      <td>119</td>\n",
       "      <td>0.599469</td>\n",
       "      <td>120</td>\n",
       "      <td>0.838232</td>\n",
       "      <td>0.592593</td>\n",
       "      <td>120</td>\n",
       "      <td>0.850530</td>\n",
       "    </tr>\n",
       "    <tr>\n",
       "      <td>120</td>\n",
       "      <td>0.603426</td>\n",
       "      <td>121</td>\n",
       "      <td>0.838109</td>\n",
       "      <td>0.591810</td>\n",
       "      <td>121</td>\n",
       "      <td>0.850484</td>\n",
       "    </tr>\n",
       "    <tr>\n",
       "      <td>122</td>\n",
       "      <td>0.601840</td>\n",
       "      <td>123</td>\n",
       "      <td>0.838151</td>\n",
       "      <td>0.592885</td>\n",
       "      <td>123</td>\n",
       "      <td>0.850538</td>\n",
       "    </tr>\n",
       "    <tr>\n",
       "      <td>124</td>\n",
       "      <td>0.608924</td>\n",
       "      <td>125</td>\n",
       "      <td>0.838156</td>\n",
       "      <td>0.590250</td>\n",
       "      <td>125</td>\n",
       "      <td>0.850922</td>\n",
       "    </tr>\n",
       "    <tr>\n",
       "      <td>126</td>\n",
       "      <td>0.607096</td>\n",
       "      <td>127</td>\n",
       "      <td>0.838189</td>\n",
       "      <td>0.592885</td>\n",
       "      <td>127</td>\n",
       "      <td>0.851232</td>\n",
       "    </tr>\n",
       "    <tr>\n",
       "      <td>127</td>\n",
       "      <td>0.607662</td>\n",
       "      <td>128</td>\n",
       "      <td>0.838127</td>\n",
       "      <td>0.591029</td>\n",
       "      <td>128</td>\n",
       "      <td>0.851553</td>\n",
       "    </tr>\n",
       "    <tr>\n",
       "      <td>128</td>\n",
       "      <td>0.608924</td>\n",
       "      <td>129</td>\n",
       "      <td>0.838291</td>\n",
       "      <td>0.590551</td>\n",
       "      <td>129</td>\n",
       "      <td>0.851570</td>\n",
       "    </tr>\n",
       "    <tr>\n",
       "      <td>130</td>\n",
       "      <td>0.609724</td>\n",
       "      <td>131</td>\n",
       "      <td>0.838673</td>\n",
       "      <td>0.592398</td>\n",
       "      <td>131</td>\n",
       "      <td>0.851844</td>\n",
       "    </tr>\n",
       "    <tr>\n",
       "      <td>131</td>\n",
       "      <td>0.605820</td>\n",
       "      <td>132</td>\n",
       "      <td>0.838489</td>\n",
       "      <td>0.592105</td>\n",
       "      <td>132</td>\n",
       "      <td>0.851619</td>\n",
       "    </tr>\n",
       "    <tr>\n",
       "      <td>132</td>\n",
       "      <td>0.610526</td>\n",
       "      <td>133</td>\n",
       "      <td>0.838399</td>\n",
       "      <td>0.593176</td>\n",
       "      <td>133</td>\n",
       "      <td>0.851825</td>\n",
       "    </tr>\n",
       "    <tr>\n",
       "      <td>134</td>\n",
       "      <td>0.609499</td>\n",
       "      <td>135</td>\n",
       "      <td>0.838538</td>\n",
       "      <td>0.593955</td>\n",
       "      <td>135</td>\n",
       "      <td>0.851986</td>\n",
       "    </tr>\n",
       "    <tr>\n",
       "      <td>135</td>\n",
       "      <td>0.607662</td>\n",
       "      <td>136</td>\n",
       "      <td>0.838476</td>\n",
       "      <td>0.590250</td>\n",
       "      <td>136</td>\n",
       "      <td>0.851804</td>\n",
       "    </tr>\n",
       "    <tr>\n",
       "      <td>136</td>\n",
       "      <td>0.608696</td>\n",
       "      <td>137</td>\n",
       "      <td>0.838384</td>\n",
       "      <td>0.593176</td>\n",
       "      <td>137</td>\n",
       "      <td>0.851652</td>\n",
       "    </tr>\n",
       "    <tr>\n",
       "      <td>137</td>\n",
       "      <td>0.608466</td>\n",
       "      <td>138</td>\n",
       "      <td>0.838264</td>\n",
       "      <td>0.591029</td>\n",
       "      <td>138</td>\n",
       "      <td>0.851314</td>\n",
       "    </tr>\n",
       "    <tr>\n",
       "      <td>139</td>\n",
       "      <td>0.606623</td>\n",
       "      <td>140</td>\n",
       "      <td>0.838438</td>\n",
       "      <td>0.593668</td>\n",
       "      <td>140</td>\n",
       "      <td>0.851445</td>\n",
       "    </tr>\n",
       "    <tr>\n",
       "      <td>140</td>\n",
       "      <td>0.606061</td>\n",
       "      <td>141</td>\n",
       "      <td>0.838432</td>\n",
       "      <td>0.594737</td>\n",
       "      <td>141</td>\n",
       "      <td>0.851280</td>\n",
       "    </tr>\n",
       "    <tr>\n",
       "      <td>141</td>\n",
       "      <td>0.607662</td>\n",
       "      <td>142</td>\n",
       "      <td>0.838449</td>\n",
       "      <td>0.591810</td>\n",
       "      <td>142</td>\n",
       "      <td>0.851101</td>\n",
       "    </tr>\n",
       "    <tr>\n",
       "      <td>142</td>\n",
       "      <td>0.609724</td>\n",
       "      <td>143</td>\n",
       "      <td>0.838552</td>\n",
       "      <td>0.593955</td>\n",
       "      <td>143</td>\n",
       "      <td>0.851112</td>\n",
       "    </tr>\n",
       "    <tr>\n",
       "      <td>143</td>\n",
       "      <td>0.607662</td>\n",
       "      <td>144</td>\n",
       "      <td>0.838483</td>\n",
       "      <td>0.594452</td>\n",
       "      <td>144</td>\n",
       "      <td>0.851373</td>\n",
       "    </tr>\n",
       "    <tr>\n",
       "      <td>144</td>\n",
       "      <td>0.608924</td>\n",
       "      <td>145</td>\n",
       "      <td>0.838545</td>\n",
       "      <td>0.590850</td>\n",
       "      <td>145</td>\n",
       "      <td>0.851400</td>\n",
       "    </tr>\n",
       "    <tr>\n",
       "      <td>145</td>\n",
       "      <td>0.605020</td>\n",
       "      <td>146</td>\n",
       "      <td>0.838604</td>\n",
       "      <td>0.593955</td>\n",
       "      <td>146</td>\n",
       "      <td>0.851310</td>\n",
       "    </tr>\n",
       "    <tr>\n",
       "      <td>146</td>\n",
       "      <td>0.608924</td>\n",
       "      <td>147</td>\n",
       "      <td>0.838462</td>\n",
       "      <td>0.592398</td>\n",
       "      <td>147</td>\n",
       "      <td>0.851376</td>\n",
       "    </tr>\n",
       "    <tr>\n",
       "      <td>150</td>\n",
       "      <td>0.603426</td>\n",
       "      <td>151</td>\n",
       "      <td>0.838323</td>\n",
       "      <td>0.590250</td>\n",
       "      <td>151</td>\n",
       "      <td>0.851907</td>\n",
       "    </tr>\n",
       "    <tr>\n",
       "      <td>152</td>\n",
       "      <td>0.605263</td>\n",
       "      <td>153</td>\n",
       "      <td>0.838083</td>\n",
       "      <td>0.591029</td>\n",
       "      <td>153</td>\n",
       "      <td>0.851941</td>\n",
       "    </tr>\n",
       "    <tr>\n",
       "      <td>158</td>\n",
       "      <td>0.607662</td>\n",
       "      <td>159</td>\n",
       "      <td>0.838025</td>\n",
       "      <td>0.590250</td>\n",
       "      <td>159</td>\n",
       "      <td>0.852085</td>\n",
       "    </tr>\n",
       "    <tr>\n",
       "      <td>164</td>\n",
       "      <td>0.611549</td>\n",
       "      <td>165</td>\n",
       "      <td>0.837670</td>\n",
       "      <td>0.590551</td>\n",
       "      <td>165</td>\n",
       "      <td>0.852014</td>\n",
       "    </tr>\n",
       "    <tr>\n",
       "      <td>194</td>\n",
       "      <td>0.607096</td>\n",
       "      <td>195</td>\n",
       "      <td>0.838646</td>\n",
       "      <td>0.590850</td>\n",
       "      <td>195</td>\n",
       "      <td>0.852777</td>\n",
       "    </tr>\n",
       "  </tbody>\n",
       "</table>\n",
       "</div>"
      ],
      "text/plain": [
       "           f1    n   auc_roc   f1_test  n_test  auc_roc_test\n",
       "110  0.603974  111  0.837504  0.591327     111      0.849963\n",
       "111  0.600266  112  0.837668  0.590728     112      0.849721\n",
       "112  0.603175  113  0.837768  0.593176     113      0.850097\n",
       "114  0.603175  115  0.837744  0.591029     115      0.850344\n",
       "116  0.604222  117  0.837997  0.594737     117      0.850460\n",
       "117  0.599469  118  0.838093  0.592593     118      0.850508\n",
       "118  0.604222  119  0.838083  0.591029     119      0.850482\n",
       "119  0.599469  120  0.838232  0.592593     120      0.850530\n",
       "120  0.603426  121  0.838109  0.591810     121      0.850484\n",
       "122  0.601840  123  0.838151  0.592885     123      0.850538\n",
       "124  0.608924  125  0.838156  0.590250     125      0.850922\n",
       "126  0.607096  127  0.838189  0.592885     127      0.851232\n",
       "127  0.607662  128  0.838127  0.591029     128      0.851553\n",
       "128  0.608924  129  0.838291  0.590551     129      0.851570\n",
       "130  0.609724  131  0.838673  0.592398     131      0.851844\n",
       "131  0.605820  132  0.838489  0.592105     132      0.851619\n",
       "132  0.610526  133  0.838399  0.593176     133      0.851825\n",
       "134  0.609499  135  0.838538  0.593955     135      0.851986\n",
       "135  0.607662  136  0.838476  0.590250     136      0.851804\n",
       "136  0.608696  137  0.838384  0.593176     137      0.851652\n",
       "137  0.608466  138  0.838264  0.591029     138      0.851314\n",
       "139  0.606623  140  0.838438  0.593668     140      0.851445\n",
       "140  0.606061  141  0.838432  0.594737     141      0.851280\n",
       "141  0.607662  142  0.838449  0.591810     142      0.851101\n",
       "142  0.609724  143  0.838552  0.593955     143      0.851112\n",
       "143  0.607662  144  0.838483  0.594452     144      0.851373\n",
       "144  0.608924  145  0.838545  0.590850     145      0.851400\n",
       "145  0.605020  146  0.838604  0.593955     146      0.851310\n",
       "146  0.608924  147  0.838462  0.592398     147      0.851376\n",
       "150  0.603426  151  0.838323  0.590250     151      0.851907\n",
       "152  0.605263  153  0.838083  0.591029     153      0.851941\n",
       "158  0.607662  159  0.838025  0.590250     159      0.852085\n",
       "164  0.611549  165  0.837670  0.590551     165      0.852014\n",
       "194  0.607096  195  0.838646  0.590850     195      0.852777"
      ]
     },
     "execution_count": 41,
     "metadata": {},
     "output_type": "execute_result"
    }
   ],
   "source": [
    "n9= []\n",
    "ar9=[]\n",
    "f1_9=[]\n",
    "\n",
    "for n in range(1, 200):\n",
    "    model_random_tree_class_final = RandomForestClassifier(random_state=12345, n_estimators=n)\n",
    "    model_random_tree_class_final.fit(features_upsampled, target_upsampled)\n",
    "    predicted_test_rand_tree = model_random_tree_class_final.predict(features_test)\n",
    "    probabilities_test_rand_tree = model_random_tree_class_final.predict_proba(features_test)\n",
    "    probabilities_one_test_rand_tree = probabilities_test_rand_tree[:, 1]\n",
    "    ar9.append(roc_auc_score(target_test, probabilities_one_test_rand_tree))\n",
    "    f1_9.append(f1_score(target_test, predicted_test_rand_tree))\n",
    "    n9.append(n)\n",
    " \n",
    "    \n",
    "\n",
    "    \n",
    "f1_9 = pd.DataFrame(f1_9, columns = ['f1_test'])\n",
    "n9 = pd.DataFrame(n9, columns = ['n_test'])\n",
    "ar9 = pd.DataFrame(ar9, columns = ['auc_roc_test'])\n",
    "mrtuf = f1_9.join(n9)\n",
    "mrtuf = mrtuf.join(ar9)\n",
    "final = mrtu.join(mrtuf)\n",
    "final.query('f1 > 0.59 and f1_test > 0.59')"
   ]
  },
  {
   "cell_type": "markdown",
   "metadata": {},
   "source": [
    "Как оказалось, таких комбинаций предостаточно, просто нам не повезло их найти ранее. Лучшая из них - модель случайного леса со 133 деревьями."
   ]
  },
  {
   "cell_type": "markdown",
   "metadata": {},
   "source": [
    "## Вывод по проекту."
   ]
  },
  {
   "cell_type": "markdown",
   "metadata": {},
   "source": [
    "Заказчиком выступил Бета-Банк с задачей построить модель, помогающую определить вероятность ухода клиента из банка в ближайшее время на основе имеющихся данных за некоторое прошедшее время. \n",
    "Подготовив данные, убрав из них нерелевантную информацию, заполнив пропуски и преобразовав признаки, мы приступили к анализу. \n",
    "Целевым признаком выступает столбец Exited, содержащий информацию о том ушел клиент или остался. Сначала мы пытались построить модели, которые не будут принимать во внимание дисбаланс между классами, но этот подход не показал удовлетворительных значений нужных нам метрик.\n",
    "Далее путем нивелирования баланса между классами в разных моделях мы пришли к модели случайного леса, которая оказалась самой точной среди написанных с весьма высокими показателями качества по метрикам f1 и Auc-Roc. \n",
    "\n",
    "Объем данных для анализа оказался недостаточным для изучения, чтобы получить 100% вероятность предсказания уйдет тот или иной клиент или нет. Поэтому опираться при принятия решения на созданную нами модель можно, но только как на косвенный признак. \n",
    "\n",
    "На наш взгляд, для того чтобы избежать утечки клиентов, Бета-Банку необходимо провести анализ удовлетворенности  среди клиентов, имеющих счета в других банках, или клиентов имеющих положительный баланс на счету более 1000$, но с минимальным количеством операций. Возможно этот анализ даст более ясные причины вероятного ухода, а соответственно и поможет сделать более точный прогноз."
   ]
  }
 ],
 "metadata": {
  "kernelspec": {
   "display_name": "Python 3",
   "language": "python",
   "name": "python3"
  },
  "language_info": {
   "codemirror_mode": {
    "name": "ipython",
    "version": 3
   },
   "file_extension": ".py",
   "mimetype": "text/x-python",
   "name": "python",
   "nbconvert_exporter": "python",
   "pygments_lexer": "ipython3",
   "version": "3.7.6"
  }
 },
 "nbformat": 4,
 "nbformat_minor": 4
}
