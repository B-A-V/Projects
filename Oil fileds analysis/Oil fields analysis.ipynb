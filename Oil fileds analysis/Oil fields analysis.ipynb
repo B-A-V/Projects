{
 "cells": [
  {
   "cell_type": "markdown",
   "metadata": {},
   "source": [
    "# Описание проекта"
   ]
  },
  {
   "cell_type": "markdown",
   "metadata": {},
   "source": [
    "Допустим, вы работаете в добывающей компании «ГлавРосГосНефть». Нужно решить, где бурить новую скважину.\n",
    "\n",
    "Вам предоставлены пробы нефти в трёх регионах: в каждом 10 000 месторождений, где измерили качество нефти и объём её запасов. Постройте модель машинного обучения, которая поможет определить регион, где добыча принесёт наибольшую прибыль. Проанализируйте возможную прибыль и риски техникой *Bootstrap.*\n",
    "\n",
    "Шаги для выбора локации:\n",
    "\n",
    "- В избранном регионе ищут месторождения, для каждого определяют значения признаков;\n",
    "- Строят модель и оценивают объём запасов;\n",
    "- Выбирают месторождения с самым высокими оценками значений. Количество месторождений зависит от бюджета компании и стоимости разработки одной скважины;\n",
    "- Прибыль равна суммарной прибыли отобранных месторождений."
   ]
  },
  {
   "cell_type": "markdown",
   "metadata": {},
   "source": [
    "# План проекта"
   ]
  },
  {
   "cell_type": "markdown",
   "metadata": {},
   "source": [
    "    1. Загрузить и подготовить данные. Пояснить порядок действий.\n",
    "    \n",
    "    2. Обучить и проверить модель для каждого региона:\n",
    "    2.1. Разбить данные на обучающую и валидационную выборки в соотношении 75:25.\n",
    "    2.2. Обучить модель и сделать предсказания на валидационной выборке.\n",
    "    2.3. Сохранить предсказания и правильные ответы на валидационной выборке.\n",
    "    2.4. Напечатать на экране средний запас предсказанного сырья и RMSE модели.\n",
    "    2.5. Проанализировать результаты.\n",
    "    \n",
    "    3. Подготовиться к расчёту прибыли:\n",
    "    3.1. Все ключевые значения для расчётов сохранить в отдельных переменных.\n",
    "    3.2. Рассчитать достаточный объём сырья для безубыточной разработки новой скважины. Сравнить полученный объём сырья со средним запасом в каждом регионе.\n",
    "    3.3. Написать выводы по этапу подготовки расчёта прибыли.\n",
    "    \n",
    "    4. Написать функцию для расчёта прибыли по выбранным скважинам и предсказаниям модели:\n",
    "    4.1. Выбрать скважины с максимальными значениями предсказаний. Количество скважин зависит от бюджета компании и стоимости разработки одной скважины.\n",
    "    4.2. Просуммировать целевое значение объёма сырья, соответствующее этим предсказаниям.\n",
    "    4.3. Рассчитать прибыль для полученного объёма сырья.\n",
    "    \n",
    "    5. Посчитать риски и прибыль для каждого региона:\n",
    "    5.1. Применить технику Bootstrap с 1000 выборок, чтобы найти распределение прибыли.\n",
    "    5.2. Найти среднюю прибыль, 95%-й доверительный интервал и риск убытков. Убыток — это отрицательная прибыль.\n",
    "    5.3. Написать выводы: предложить регион для разработки скважин и обосновать выбор."
   ]
  },
  {
   "cell_type": "markdown",
   "metadata": {},
   "source": [
    "# Описание данных"
   ]
  },
  {
   "cell_type": "markdown",
   "metadata": {},
   "source": [
    "Данные геологоразведки трёх регионов находятся в файлах:\n",
    "\n",
    "    geo_data_0.csv \n",
    "    geo_data_1.csv\n",
    "    geo_data_2.csv \n",
    "    id — уникальный идентификатор скважины;\n",
    "    f0, f1, f2 — три признака точек;\n",
    "    product — объём запасов в скважине (тыс. баррелей)."
   ]
  },
  {
   "cell_type": "markdown",
   "metadata": {},
   "source": [
    "# Условия задачи"
   ]
  },
  {
   "cell_type": "markdown",
   "metadata": {},
   "source": [
    "- Для обучения модели подходит только линейная регрессия (остальные — недостаточно предсказуемые).\n",
    "- При разведке региона исследуют 500 точек, из которых выбирают 200 лучших для расчёта прибыли.\n",
    "- Бюджет на разработку скважин в регионе — 10 млрд рублей.\n",
    "- Один баррель сырья приносит 450 рублей дохода. Доход с каждой единицы продукта составляет 450 тыс. рублей, поскольку объём указан в тысячах баррелей.\n",
    "- После оценки рисков нужно оставить лишь те регионы, в которых вероятность убытков меньше 2.5%. Среди них выбирают регион с наибольшей средней прибылью.\n",
    "\n",
    "Данные синтетические: детали контрактов и характеристики месторождений не разглашаются."
   ]
  },
  {
   "cell_type": "markdown",
   "metadata": {},
   "source": [
    "# 1. Загрузка и подготовка данных"
   ]
  },
  {
   "cell_type": "markdown",
   "metadata": {},
   "source": [
    "Загрузим все необходимые библиотеки и все три датасета, присвоив им имена."
   ]
  },
  {
   "cell_type": "code",
   "execution_count": 1,
   "metadata": {},
   "outputs": [],
   "source": [
    "import pandas as pd\n",
    "import numpy as np\n",
    "from sklearn.model_selection import train_test_split\n",
    "from sklearn.metrics import accuracy_score\n",
    "from sklearn.linear_model import LinearRegression\n",
    "from sklearn.metrics import precision_score\n",
    "from sklearn.metrics import recall_score\n",
    "from sklearn.metrics import f1_score\n",
    "from sklearn.metrics import roc_auc_score\n",
    "from sklearn.metrics import roc_curve\n",
    "from sklearn.metrics import mean_squared_error\n",
    "from scipy import stats as st\n",
    "import matplotlib.pyplot as plt\n",
    "from sklearn.utils import shuffle\n",
    "from IPython.display import display"
   ]
  },
  {
   "cell_type": "code",
   "execution_count": 2,
   "metadata": {},
   "outputs": [],
   "source": [
    "gd0 = pd.read_csv('/datasets/geo_data_0.csv')\n",
    "gd1 = pd.read_csv('/datasets/geo_data_1.csv')\n",
    "gd2 = pd.read_csv('/datasets/geo_data_2.csv')"
   ]
  },
  {
   "cell_type": "markdown",
   "metadata": {},
   "source": [
    "Рассмотрим все три по очереди."
   ]
  },
  {
   "cell_type": "code",
   "execution_count": 3,
   "metadata": {},
   "outputs": [
    {
     "name": "stdout",
     "output_type": "stream",
     "text": [
      "<class 'pandas.core.frame.DataFrame'>\n",
      "RangeIndex: 100000 entries, 0 to 99999\n",
      "Data columns (total 5 columns):\n",
      "id         100000 non-null object\n",
      "f0         100000 non-null float64\n",
      "f1         100000 non-null float64\n",
      "f2         100000 non-null float64\n",
      "product    100000 non-null float64\n",
      "dtypes: float64(4), object(1)\n",
      "memory usage: 3.8+ MB\n"
     ]
    }
   ],
   "source": [
    "gd0.info()"
   ]
  },
  {
   "cell_type": "code",
   "execution_count": 4,
   "metadata": {},
   "outputs": [
    {
     "data": {
      "text/html": [
       "<div>\n",
       "<style scoped>\n",
       "    .dataframe tbody tr th:only-of-type {\n",
       "        vertical-align: middle;\n",
       "    }\n",
       "\n",
       "    .dataframe tbody tr th {\n",
       "        vertical-align: top;\n",
       "    }\n",
       "\n",
       "    .dataframe thead th {\n",
       "        text-align: right;\n",
       "    }\n",
       "</style>\n",
       "<table border=\"1\" class=\"dataframe\">\n",
       "  <thead>\n",
       "    <tr style=\"text-align: right;\">\n",
       "      <th></th>\n",
       "      <th>id</th>\n",
       "      <th>f0</th>\n",
       "      <th>f1</th>\n",
       "      <th>f2</th>\n",
       "      <th>product</th>\n",
       "    </tr>\n",
       "  </thead>\n",
       "  <tbody>\n",
       "    <tr>\n",
       "      <td>0</td>\n",
       "      <td>txEyH</td>\n",
       "      <td>0.705745</td>\n",
       "      <td>-0.497823</td>\n",
       "      <td>1.221170</td>\n",
       "      <td>105.280062</td>\n",
       "    </tr>\n",
       "    <tr>\n",
       "      <td>1</td>\n",
       "      <td>2acmU</td>\n",
       "      <td>1.334711</td>\n",
       "      <td>-0.340164</td>\n",
       "      <td>4.365080</td>\n",
       "      <td>73.037750</td>\n",
       "    </tr>\n",
       "    <tr>\n",
       "      <td>2</td>\n",
       "      <td>409Wp</td>\n",
       "      <td>1.022732</td>\n",
       "      <td>0.151990</td>\n",
       "      <td>1.419926</td>\n",
       "      <td>85.265647</td>\n",
       "    </tr>\n",
       "    <tr>\n",
       "      <td>3</td>\n",
       "      <td>iJLyR</td>\n",
       "      <td>-0.032172</td>\n",
       "      <td>0.139033</td>\n",
       "      <td>2.978566</td>\n",
       "      <td>168.620776</td>\n",
       "    </tr>\n",
       "    <tr>\n",
       "      <td>4</td>\n",
       "      <td>Xdl7t</td>\n",
       "      <td>1.988431</td>\n",
       "      <td>0.155413</td>\n",
       "      <td>4.751769</td>\n",
       "      <td>154.036647</td>\n",
       "    </tr>\n",
       "  </tbody>\n",
       "</table>\n",
       "</div>"
      ],
      "text/plain": [
       "      id        f0        f1        f2     product\n",
       "0  txEyH  0.705745 -0.497823  1.221170  105.280062\n",
       "1  2acmU  1.334711 -0.340164  4.365080   73.037750\n",
       "2  409Wp  1.022732  0.151990  1.419926   85.265647\n",
       "3  iJLyR -0.032172  0.139033  2.978566  168.620776\n",
       "4  Xdl7t  1.988431  0.155413  4.751769  154.036647"
      ]
     },
     "execution_count": 4,
     "metadata": {},
     "output_type": "execute_result"
    }
   ],
   "source": [
    "gd0.head()"
   ]
  },
  {
   "cell_type": "code",
   "execution_count": 5,
   "metadata": {},
   "outputs": [
    {
     "name": "stdout",
     "output_type": "stream",
     "text": [
      "<class 'pandas.core.frame.DataFrame'>\n",
      "RangeIndex: 100000 entries, 0 to 99999\n",
      "Data columns (total 5 columns):\n",
      "id         100000 non-null object\n",
      "f0         100000 non-null float64\n",
      "f1         100000 non-null float64\n",
      "f2         100000 non-null float64\n",
      "product    100000 non-null float64\n",
      "dtypes: float64(4), object(1)\n",
      "memory usage: 3.8+ MB\n"
     ]
    }
   ],
   "source": [
    "gd1.info()"
   ]
  },
  {
   "cell_type": "code",
   "execution_count": 6,
   "metadata": {},
   "outputs": [
    {
     "data": {
      "text/html": [
       "<div>\n",
       "<style scoped>\n",
       "    .dataframe tbody tr th:only-of-type {\n",
       "        vertical-align: middle;\n",
       "    }\n",
       "\n",
       "    .dataframe tbody tr th {\n",
       "        vertical-align: top;\n",
       "    }\n",
       "\n",
       "    .dataframe thead th {\n",
       "        text-align: right;\n",
       "    }\n",
       "</style>\n",
       "<table border=\"1\" class=\"dataframe\">\n",
       "  <thead>\n",
       "    <tr style=\"text-align: right;\">\n",
       "      <th></th>\n",
       "      <th>id</th>\n",
       "      <th>f0</th>\n",
       "      <th>f1</th>\n",
       "      <th>f2</th>\n",
       "      <th>product</th>\n",
       "    </tr>\n",
       "  </thead>\n",
       "  <tbody>\n",
       "    <tr>\n",
       "      <td>0</td>\n",
       "      <td>kBEdx</td>\n",
       "      <td>-15.001348</td>\n",
       "      <td>-8.276000</td>\n",
       "      <td>-0.005876</td>\n",
       "      <td>3.179103</td>\n",
       "    </tr>\n",
       "    <tr>\n",
       "      <td>1</td>\n",
       "      <td>62mP7</td>\n",
       "      <td>14.272088</td>\n",
       "      <td>-3.475083</td>\n",
       "      <td>0.999183</td>\n",
       "      <td>26.953261</td>\n",
       "    </tr>\n",
       "    <tr>\n",
       "      <td>2</td>\n",
       "      <td>vyE1P</td>\n",
       "      <td>6.263187</td>\n",
       "      <td>-5.948386</td>\n",
       "      <td>5.001160</td>\n",
       "      <td>134.766305</td>\n",
       "    </tr>\n",
       "    <tr>\n",
       "      <td>3</td>\n",
       "      <td>KcrkZ</td>\n",
       "      <td>-13.081196</td>\n",
       "      <td>-11.506057</td>\n",
       "      <td>4.999415</td>\n",
       "      <td>137.945408</td>\n",
       "    </tr>\n",
       "    <tr>\n",
       "      <td>4</td>\n",
       "      <td>AHL4O</td>\n",
       "      <td>12.702195</td>\n",
       "      <td>-8.147433</td>\n",
       "      <td>5.004363</td>\n",
       "      <td>134.766305</td>\n",
       "    </tr>\n",
       "  </tbody>\n",
       "</table>\n",
       "</div>"
      ],
      "text/plain": [
       "      id         f0         f1        f2     product\n",
       "0  kBEdx -15.001348  -8.276000 -0.005876    3.179103\n",
       "1  62mP7  14.272088  -3.475083  0.999183   26.953261\n",
       "2  vyE1P   6.263187  -5.948386  5.001160  134.766305\n",
       "3  KcrkZ -13.081196 -11.506057  4.999415  137.945408\n",
       "4  AHL4O  12.702195  -8.147433  5.004363  134.766305"
      ]
     },
     "execution_count": 6,
     "metadata": {},
     "output_type": "execute_result"
    }
   ],
   "source": [
    "gd1.head()"
   ]
  },
  {
   "cell_type": "code",
   "execution_count": 7,
   "metadata": {},
   "outputs": [
    {
     "name": "stdout",
     "output_type": "stream",
     "text": [
      "<class 'pandas.core.frame.DataFrame'>\n",
      "RangeIndex: 100000 entries, 0 to 99999\n",
      "Data columns (total 5 columns):\n",
      "id         100000 non-null object\n",
      "f0         100000 non-null float64\n",
      "f1         100000 non-null float64\n",
      "f2         100000 non-null float64\n",
      "product    100000 non-null float64\n",
      "dtypes: float64(4), object(1)\n",
      "memory usage: 3.8+ MB\n"
     ]
    }
   ],
   "source": [
    "gd2.info()"
   ]
  },
  {
   "cell_type": "code",
   "execution_count": 8,
   "metadata": {},
   "outputs": [
    {
     "data": {
      "text/html": [
       "<div>\n",
       "<style scoped>\n",
       "    .dataframe tbody tr th:only-of-type {\n",
       "        vertical-align: middle;\n",
       "    }\n",
       "\n",
       "    .dataframe tbody tr th {\n",
       "        vertical-align: top;\n",
       "    }\n",
       "\n",
       "    .dataframe thead th {\n",
       "        text-align: right;\n",
       "    }\n",
       "</style>\n",
       "<table border=\"1\" class=\"dataframe\">\n",
       "  <thead>\n",
       "    <tr style=\"text-align: right;\">\n",
       "      <th></th>\n",
       "      <th>id</th>\n",
       "      <th>f0</th>\n",
       "      <th>f1</th>\n",
       "      <th>f2</th>\n",
       "      <th>product</th>\n",
       "    </tr>\n",
       "  </thead>\n",
       "  <tbody>\n",
       "    <tr>\n",
       "      <td>0</td>\n",
       "      <td>fwXo0</td>\n",
       "      <td>-1.146987</td>\n",
       "      <td>0.963328</td>\n",
       "      <td>-0.828965</td>\n",
       "      <td>27.758673</td>\n",
       "    </tr>\n",
       "    <tr>\n",
       "      <td>1</td>\n",
       "      <td>WJtFt</td>\n",
       "      <td>0.262778</td>\n",
       "      <td>0.269839</td>\n",
       "      <td>-2.530187</td>\n",
       "      <td>56.069697</td>\n",
       "    </tr>\n",
       "    <tr>\n",
       "      <td>2</td>\n",
       "      <td>ovLUW</td>\n",
       "      <td>0.194587</td>\n",
       "      <td>0.289035</td>\n",
       "      <td>-5.586433</td>\n",
       "      <td>62.871910</td>\n",
       "    </tr>\n",
       "    <tr>\n",
       "      <td>3</td>\n",
       "      <td>q6cA6</td>\n",
       "      <td>2.236060</td>\n",
       "      <td>-0.553760</td>\n",
       "      <td>0.930038</td>\n",
       "      <td>114.572842</td>\n",
       "    </tr>\n",
       "    <tr>\n",
       "      <td>4</td>\n",
       "      <td>WPMUX</td>\n",
       "      <td>-0.515993</td>\n",
       "      <td>1.716266</td>\n",
       "      <td>5.899011</td>\n",
       "      <td>149.600746</td>\n",
       "    </tr>\n",
       "  </tbody>\n",
       "</table>\n",
       "</div>"
      ],
      "text/plain": [
       "      id        f0        f1        f2     product\n",
       "0  fwXo0 -1.146987  0.963328 -0.828965   27.758673\n",
       "1  WJtFt  0.262778  0.269839 -2.530187   56.069697\n",
       "2  ovLUW  0.194587  0.289035 -5.586433   62.871910\n",
       "3  q6cA6  2.236060 -0.553760  0.930038  114.572842\n",
       "4  WPMUX -0.515993  1.716266  5.899011  149.600746"
      ]
     },
     "execution_count": 8,
     "metadata": {},
     "output_type": "execute_result"
    }
   ],
   "source": [
    "gd2.head()"
   ]
  },
  {
   "cell_type": "markdown",
   "metadata": {},
   "source": [
    "По 100000 скважин в каждом регионе, пропусков нет, но для наших целей столбец id абсолютно нерелвантен и будет сбивать. Удалим его из всех трех датасетов."
   ]
  },
  {
   "cell_type": "code",
   "execution_count": 9,
   "metadata": {},
   "outputs": [],
   "source": [
    "gd0 = gd0.drop(['id'], axis=1)\n",
    "gd1 = gd1.drop(['id'], axis=1)\n",
    "gd2 = gd2.drop(['id'], axis=1)"
   ]
  },
  {
   "cell_type": "markdown",
   "metadata": {},
   "source": [
    "Преобразование признаков не требуется. Данные готовы к анализу."
   ]
  },
  {
   "cell_type": "markdown",
   "metadata": {},
   "source": [
    "# 2. Обучение и проверка модели"
   ]
  },
  {
   "cell_type": "markdown",
   "metadata": {},
   "source": [
    "Сначала разобьем данные каждого датасета на обучающую и валидационную выборки в пропорции 75:25."
   ]
  },
  {
   "cell_type": "code",
   "execution_count": 10,
   "metadata": {},
   "outputs": [],
   "source": [
    "gd0_train, gd0_valid = train_test_split(gd0, test_size=0.25, random_state=12345)\n",
    "gd1_train, gd1_valid = train_test_split(gd1, test_size=0.25, random_state=12345)\n",
    "gd2_train, gd2_valid = train_test_split(gd2, test_size=0.25, random_state=12345)"
   ]
  },
  {
   "cell_type": "markdown",
   "metadata": {},
   "source": [
    "Проверим себя"
   ]
  },
  {
   "cell_type": "code",
   "execution_count": 11,
   "metadata": {},
   "outputs": [
    {
     "name": "stdout",
     "output_type": "stream",
     "text": [
      "<class 'pandas.core.frame.DataFrame'>\n",
      "Int64Index: 75000 entries, 27212 to 86498\n",
      "Data columns (total 4 columns):\n",
      "f0         75000 non-null float64\n",
      "f1         75000 non-null float64\n",
      "f2         75000 non-null float64\n",
      "product    75000 non-null float64\n",
      "dtypes: float64(4)\n",
      "memory usage: 2.9 MB\n"
     ]
    }
   ],
   "source": [
    "gd0_train.info()"
   ]
  },
  {
   "cell_type": "code",
   "execution_count": 12,
   "metadata": {},
   "outputs": [
    {
     "name": "stdout",
     "output_type": "stream",
     "text": [
      "<class 'pandas.core.frame.DataFrame'>\n",
      "Int64Index: 25000 entries, 71751 to 43558\n",
      "Data columns (total 4 columns):\n",
      "f0         25000 non-null float64\n",
      "f1         25000 non-null float64\n",
      "f2         25000 non-null float64\n",
      "product    25000 non-null float64\n",
      "dtypes: float64(4)\n",
      "memory usage: 976.6 KB\n"
     ]
    }
   ],
   "source": [
    "gd0_valid.info()"
   ]
  },
  {
   "cell_type": "code",
   "execution_count": 13,
   "metadata": {},
   "outputs": [
    {
     "name": "stdout",
     "output_type": "stream",
     "text": [
      "<class 'pandas.core.frame.DataFrame'>\n",
      "Int64Index: 75000 entries, 27212 to 86498\n",
      "Data columns (total 4 columns):\n",
      "f0         75000 non-null float64\n",
      "f1         75000 non-null float64\n",
      "f2         75000 non-null float64\n",
      "product    75000 non-null float64\n",
      "dtypes: float64(4)\n",
      "memory usage: 2.9 MB\n"
     ]
    }
   ],
   "source": [
    "gd1_train.info()"
   ]
  },
  {
   "cell_type": "code",
   "execution_count": 14,
   "metadata": {},
   "outputs": [
    {
     "name": "stdout",
     "output_type": "stream",
     "text": [
      "<class 'pandas.core.frame.DataFrame'>\n",
      "Int64Index: 25000 entries, 71751 to 43558\n",
      "Data columns (total 4 columns):\n",
      "f0         25000 non-null float64\n",
      "f1         25000 non-null float64\n",
      "f2         25000 non-null float64\n",
      "product    25000 non-null float64\n",
      "dtypes: float64(4)\n",
      "memory usage: 976.6 KB\n"
     ]
    }
   ],
   "source": [
    "gd1_valid.info()"
   ]
  },
  {
   "cell_type": "code",
   "execution_count": 15,
   "metadata": {},
   "outputs": [
    {
     "name": "stdout",
     "output_type": "stream",
     "text": [
      "<class 'pandas.core.frame.DataFrame'>\n",
      "Int64Index: 75000 entries, 27212 to 86498\n",
      "Data columns (total 4 columns):\n",
      "f0         75000 non-null float64\n",
      "f1         75000 non-null float64\n",
      "f2         75000 non-null float64\n",
      "product    75000 non-null float64\n",
      "dtypes: float64(4)\n",
      "memory usage: 2.9 MB\n"
     ]
    }
   ],
   "source": [
    "gd2_train.info()"
   ]
  },
  {
   "cell_type": "code",
   "execution_count": 16,
   "metadata": {},
   "outputs": [
    {
     "name": "stdout",
     "output_type": "stream",
     "text": [
      "<class 'pandas.core.frame.DataFrame'>\n",
      "Int64Index: 25000 entries, 71751 to 43558\n",
      "Data columns (total 4 columns):\n",
      "f0         25000 non-null float64\n",
      "f1         25000 non-null float64\n",
      "f2         25000 non-null float64\n",
      "product    25000 non-null float64\n",
      "dtypes: float64(4)\n",
      "memory usage: 976.6 KB\n"
     ]
    }
   ],
   "source": [
    "gd2_valid.info()"
   ]
  },
  {
   "cell_type": "markdown",
   "metadata": {},
   "source": [
    "Все верно. Теперь приступим к обучению модели линейной регрессии. Для этого надо вычленить признаки и целевой признак для обучающей и валидационной выборок. Целевой признак - объем баррелей в скважине. Признаки - остальные."
   ]
  },
  {
   "cell_type": "code",
   "execution_count": 17,
   "metadata": {},
   "outputs": [
    {
     "data": {
      "text/plain": [
       "27212    147.370612\n",
       "7866     147.630053\n",
       "62041     77.696728\n",
       "70185     55.210501\n",
       "82230    113.891723\n",
       "            ...    \n",
       "4094     124.380793\n",
       "85412    144.874913\n",
       "2177     134.967255\n",
       "77285     64.494357\n",
       "86498    151.514894\n",
       "Name: product, Length: 75000, dtype: float64"
      ]
     },
     "execution_count": 17,
     "metadata": {},
     "output_type": "execute_result"
    }
   ],
   "source": [
    "features_gd0 = gd0_train.drop(['product'], axis=1)\n",
    "target_gd0 = gd0_train['product']\n",
    "features_gd1 = gd1_train.drop(['product'], axis=1)\n",
    "target_gd1 = gd1_train['product']\n",
    "features_gd2 = gd2_train.drop(['product'], axis=1)\n",
    "target_gd2 = gd2_train['product']\n",
    "features_valid_gd0 = gd0_valid.drop(['product'], axis=1)\n",
    "target_valid_gd0 = gd0_valid['product'].reset_index(drop=True)  #индексация таргета\n",
    "features_valid_gd1 = gd1_valid.drop(['product'], axis=1)\n",
    "target_valid_gd1 = gd1_valid['product'].reset_index(drop=True)\n",
    "features_valid_gd2 = gd2_valid.drop(['product'], axis=1)\n",
    "target_valid_gd2 = gd2_valid['product'].reset_index(drop=True)\n",
    "target_gd0"
   ]
  },
  {
   "cell_type": "markdown",
   "metadata": {},
   "source": [
    "Обучим модели."
   ]
  },
  {
   "cell_type": "code",
   "execution_count": 18,
   "metadata": {},
   "outputs": [],
   "source": [
    "model_gd0 = LinearRegression().fit(features_gd0, target_gd0)\n",
    "model_gd1 = LinearRegression().fit(features_gd1, target_gd1)\n",
    "model_gd2 = LinearRegression().fit(features_gd2, target_gd2)"
   ]
  },
  {
   "cell_type": "markdown",
   "metadata": {},
   "source": [
    "Сделаем предсказания на валидационной выборке и преобразуем их в Series."
   ]
  },
  {
   "cell_type": "code",
   "execution_count": 19,
   "metadata": {},
   "outputs": [
    {
     "data": {
      "text/plain": [
       "array([ 95.89495185,  77.57258261,  77.89263965, ...,  61.50983303,\n",
       "       118.18039721, 118.16939229])"
      ]
     },
     "execution_count": 19,
     "metadata": {},
     "output_type": "execute_result"
    }
   ],
   "source": [
    "predictions_gd0 = model_gd0.predict(features_valid_gd0)\n",
    "predictions_gd1 = model_gd1.predict(features_valid_gd1)\n",
    "predictions_gd2 = model_gd2.predict(features_valid_gd2)\n",
    "predictions_gd0"
   ]
  },
  {
   "cell_type": "markdown",
   "metadata": {},
   "source": [
    "Посчитаем средний запас предсказанного сырья и rmse модели в каждом регионе."
   ]
  },
  {
   "cell_type": "code",
   "execution_count": 20,
   "metadata": {},
   "outputs": [
    {
     "name": "stdout",
     "output_type": "stream",
     "text": [
      "Средний запас предсказанного сырья в первом регионе, тыс. барр.: 92.59256778438038\n",
      "RMSE первый регион, тыс. барр.: 37.5794217150813\n",
      "\n",
      "Средний запас предсказанного сырья во втором регионе, тыс. барр.: 68.728546895446\n",
      "RMSE второй регион, тыс. барр.: 0.893099286775616\n",
      "\n",
      "Средний запас предсказанного сырья в третьем регионе, тыс. барр.: 94.96504596800489\n",
      "RMSE третий регион, тыс. барр.: 40.02970873393434\n"
     ]
    }
   ],
   "source": [
    "mse_gd0 = mean_squared_error(target_valid_gd0, predictions_gd0)\n",
    "rmse_gd0 = mse_gd0 ** 0.5\n",
    "print(\"Средний запас предсказанного сырья в первом регионе, тыс. барр.:\", predictions_gd0.mean())\n",
    "print(\"RMSE первый регион, тыс. барр.:\", rmse_gd0)\n",
    "print()\n",
    "mse_gd1 = mean_squared_error(target_valid_gd1, predictions_gd1)\n",
    "rmse_gd1 = mse_gd1 ** 0.5\n",
    "print(\"Средний запас предсказанного сырья во втором регионе, тыс. барр.:\", predictions_gd1.mean())\n",
    "print(\"RMSE второй регион, тыс. барр.:\", rmse_gd1)\n",
    "print()\n",
    "mse_gd2 = mean_squared_error(target_valid_gd2, predictions_gd2)\n",
    "rmse_gd2 = mse_gd2 ** 0.5\n",
    "print(\"Средний запас предсказанного сырья в третьем регионе, тыс. барр.:\", predictions_gd2.mean())\n",
    "print(\"RMSE третий регион, тыс. барр.:\", rmse_gd2)"
   ]
  },
  {
   "cell_type": "markdown",
   "metadata": {},
   "source": [
    "## Вывод"
   ]
  },
  {
   "cell_type": "markdown",
   "metadata": {},
   "source": [
    "Средний запас выше в первом и третьем регионах (92 и 94 тысячи баррелей соответственно), но лучше всех именно модель себя показала во втором регионе - 68 тысяч баррелей, но среднеквадратичная ошбика всего 0.89, тогда как в первом и третьем ошибки имели значение в 37 и 40 соответственно. Модель второго региона существенно снизила вероятность ошибки, а следовательно и возможных убытков. Второй регион, с точки зрения бизнеса, пока лидирует, на мой взгляд."
   ]
  },
  {
   "cell_type": "markdown",
   "metadata": {},
   "source": [
    "# 3. Подготовка к расчёту прибыли"
   ]
  },
  {
   "cell_type": "markdown",
   "metadata": {},
   "source": [
    "Получив рабочие модели, нам необходимо подготовиться к расчету прибыли. Для этого необходимо зафиксировать в переменных все требуемые значения."
   ]
  },
  {
   "cell_type": "markdown",
   "metadata": {},
   "source": [
    "Бюджет на разработку скважин в регионе - 10 млрд рублей. Так как из всех скважин мы будем случайным образом выбирать  для анализа 500, а разрабатывать только 200 из них, то бюджет на разработку одной скважины составит 50 миллионов рублей. Зафиксируем бюджет в переменной budget, а количество скважин для анализа - в переменной sample."
   ]
  },
  {
   "cell_type": "code",
   "execution_count": 21,
   "metadata": {},
   "outputs": [],
   "source": [
    "budget = 10e9\n",
    "sample = 500"
   ]
  },
  {
   "cell_type": "markdown",
   "metadata": {},
   "source": [
    "Один баррель сырья приносит 450 рублей дохода. Доход с каждой единицы продукта составляет 450 тыс. рублей, поскольку объём указан в тысячах баррелей. Зафиксируем это в переменной income."
   ]
  },
  {
   "cell_type": "code",
   "execution_count": 22,
   "metadata": {},
   "outputs": [],
   "source": [
    "income = 450000"
   ]
  },
  {
   "cell_type": "markdown",
   "metadata": {},
   "source": [
    "После оценки рисков нужно оставить лишь те регионы, в которых вероятность убытков меньше 2.5%. Среди них будем выбирать регион с наибольшей средней прибылью. Порог в 2.5% зафиксируем в переменной limit."
   ]
  },
  {
   "cell_type": "code",
   "execution_count": 23,
   "metadata": {},
   "outputs": [],
   "source": [
    "limit = 0.025"
   ]
  },
  {
   "cell_type": "markdown",
   "metadata": {},
   "source": [
    "Также нам необходимо рассчитать достаточный объём сырья для безубыточной разработки новой скважины. Зафиксируем этот показатель в переменной min_vol. Для этого необходимо разделить budget на income."
   ]
  },
  {
   "cell_type": "code",
   "execution_count": 24,
   "metadata": {},
   "outputs": [
    {
     "data": {
      "text/plain": [
       "111.11111111111111"
      ]
     },
     "execution_count": 24,
     "metadata": {},
     "output_type": "execute_result"
    }
   ],
   "source": [
    "min_vol = budget / income/200\n",
    "min_vol"
   ]
  },
  {
   "cell_type": "markdown",
   "metadata": {},
   "source": [
    "## Вывод"
   ]
  },
  {
   "cell_type": "markdown",
   "metadata": {},
   "source": [
    "Итак, мы получили минимальный порог объема скважины в 111 тысяч баррелей нефти. Это больше, чем среднее прогнозируемое значение в любом из изучаемых нами регионов. Необходимо тщательнее подойти к подбору региона."
   ]
  },
  {
   "cell_type": "markdown",
   "metadata": {},
   "source": [
    "# 4. Расчёт прибыли и рисков "
   ]
  },
  {
   "cell_type": "markdown",
   "metadata": {},
   "source": [
    "В первую очередь для поиска наиболее подходящего региона нам потребуется написать формулу для подсчета прогнозируемой прибыли с каждого региона. В ней и будем производить сортировку 200 луших скважин."
   ]
  },
  {
   "cell_type": "code",
   "execution_count": 25,
   "metadata": {},
   "outputs": [],
   "source": [
    "def revenue(target,predictions,count):\n",
    "    predictions = pd.Series(predictions)\n",
    "    predictions = predictions.sort_values(ascending=False)\n",
    "    top_200 = target[predictions.index][:200]\n",
    "    product = top_200.sum()\n",
    "    profit = product * income\n",
    "    revenue_gd = profit - budget\n",
    "    return revenue_gd"
   ]
  },
  {
   "cell_type": "markdown",
   "metadata": {},
   "source": [
    "Теперь нам необходимо проверить нашу модель - посчитать необходимые показатели на реальных объемах скважин для всех трех регионов и на основе этих данных определить какой регион набиолее предпочтителен."
   ]
  },
  {
   "cell_type": "markdown",
   "metadata": {},
   "source": [
    "Первый регион"
   ]
  },
  {
   "cell_type": "code",
   "execution_count": 26,
   "metadata": {},
   "outputs": [
    {
     "name": "stdout",
     "output_type": "stream",
     "text": [
      "Показатели для первого региона\n",
      "\n",
      "Прогнозируемая прибыль с первого региона: 3320826043.1398525\n",
      "Средняя прибыль: 396164984.8023711\n",
      "95%-й доверительный интервал: (-111215545.89049526, 909766941.5534225)\n",
      "Риск убытков: 0.069\n"
     ]
    }
   ],
   "source": [
    "state = np.random.RandomState(12345)\n",
    " \n",
    "values = []\n",
    "for i in range(1000):\n",
    "    target_subsample_1 = target_valid_gd0.sample(n=sample, replace=True, random_state=state)\n",
    "    probs_subsample_1 = predictions_gd0[target_subsample_1.index]\n",
    "    values.append(revenue(pd.Series(target_subsample_1).reset_index(drop=True), pd.Series(probs_subsample_1), 200))   \n",
    "    \n",
    "\n",
    "values = pd.Series(values)\n",
    " \n",
    "risk = (values < 0).mean()\n",
    "mean = values.mean()\n",
    "confidence_interval = values.quantile(0.025), values.quantile(0.975)\n",
    "print('Показатели для первого региона')\n",
    "print()\n",
    "print('Прогнозируемая прибыль с первого региона:', revenue(target_valid_gd0, predictions_gd0, 200))\n",
    "print('Средняя прибыль:', mean)\n",
    "print('95%-й доверительный интервал:', confidence_interval)\n",
    "print('Риск убытков:', risk)"
   ]
  },
  {
   "cell_type": "markdown",
   "metadata": {},
   "source": [
    "Второй регион"
   ]
  },
  {
   "cell_type": "code",
   "execution_count": 27,
   "metadata": {},
   "outputs": [
    {
     "name": "stdout",
     "output_type": "stream",
     "text": [
      "Показатели для второго региона\n",
      "\n",
      "Прогнозируемая прибыль со второго региона: 2415086696.681511\n",
      "Средняя прибыль: 456045105.7866609\n",
      "95%-й доверительный интервал: (33820509.39898549, 852289453.866036)\n",
      "Риск убытков: 0.015\n"
     ]
    }
   ],
   "source": [
    "state = np.random.RandomState(12345)\n",
    " \n",
    "values = []\n",
    "for i in range(1000):\n",
    "    target_subsample_1 = target_valid_gd1.sample(n=sample, replace=True, random_state=state)\n",
    "    probs_subsample_1 = predictions_gd1[target_subsample_1.index]\n",
    "    values.append(revenue(pd.Series(target_subsample_1).reset_index(drop=True), pd.Series(probs_subsample_1), 200))\n",
    "\n",
    "\n",
    "values = pd.Series(values)\n",
    " \n",
    "risk = (values < 0).mean()\n",
    "mean = values.mean()\n",
    "confidence_interval = values.quantile(0.025), values.quantile(0.975)\n",
    "print('Показатели для второго региона')\n",
    "print()\n",
    "print('Прогнозируемая прибыль со второго региона:', revenue(target_valid_gd1, predictions_gd1, 200))\n",
    "print('Средняя прибыль:', mean)\n",
    "print('95%-й доверительный интервал:', confidence_interval)\n",
    "print('Риск убытков:', risk)"
   ]
  },
  {
   "cell_type": "markdown",
   "metadata": {},
   "source": [
    "Третий регион"
   ]
  },
  {
   "cell_type": "code",
   "execution_count": 28,
   "metadata": {},
   "outputs": [
    {
     "name": "stdout",
     "output_type": "stream",
     "text": [
      "Показатели для третьего региона\n",
      "\n",
      "Прогнозируемая прибыль с третьего региона: 2710349963.5998325\n",
      "Средняя прибыль: 404403866.56835675\n",
      "95%-й доверительный интервал: (-163350413.39559925, 950359574.9237995)\n",
      "Риск убытков: 0.076\n"
     ]
    }
   ],
   "source": [
    "state = np.random.RandomState(12345)\n",
    " \n",
    "values = []\n",
    "for i in range(1000):\n",
    "    target_subsample_1 = target_valid_gd2.sample(n=sample, replace=True, random_state=state)\n",
    "    probs_subsample_1 = predictions_gd2[target_subsample_1.index]\n",
    "    values.append(revenue(pd.Series(target_subsample_1).reset_index(drop=True)  , pd.Series(probs_subsample_1), 200))\n",
    "    \n",
    "\n",
    "values = pd.Series(values)\n",
    " \n",
    "risk = (values < 0).mean()\n",
    "mean = values.mean()\n",
    "confidence_interval = values.quantile(0.025), values.quantile(0.975)\n",
    "print('Показатели для третьего региона')\n",
    "print()\n",
    "print('Прогнозируемая прибыль с третьего региона:', revenue(target_valid_gd2, predictions_gd2, 200))\n",
    "print('Средняя прибыль:', mean)\n",
    "print('95%-й доверительный интервал:', confidence_interval)\n",
    "print('Риск убытков:', risk)"
   ]
  },
  {
   "cell_type": "markdown",
   "metadata": {},
   "source": [
    "# Вывод"
   ]
  },
  {
   "cell_type": "markdown",
   "metadata": {},
   "source": [
    "Проведя весь требуемый анализ мы можем однозначно сказать, что самый перспективный регион - второй. Показатели средней прибыли, прогнозируемой прибыли и границы доверительного интервала превосходят аналогичные в других регионах, а также риск убытков ниже всех, поэтому рекомендуем в первую очередь пристальнее изучить именно его. Именно изучить, а не сразу отправиться на разработку, ведь объем вложений предполагается крайне большой, а рисковать, опираясь только на моделирование мы не можем порекомендовать."
   ]
  },
  {
   "cell_type": "markdown",
   "metadata": {},
   "source": [
    "# Чек-лист готовности проекта"
   ]
  },
  {
   "cell_type": "markdown",
   "metadata": {},
   "source": [
    "Поставьте 'x' в выполненных пунктах. Далее нажмите Shift+Enter."
   ]
  },
  {
   "cell_type": "markdown",
   "metadata": {},
   "source": [
    "- [x]  Jupyter Notebook открыт\n",
    "- [x]  Весь код выполняется без ошибок\n",
    "- [x]  Ячейки с кодом расположены в порядке исполнения\n",
    "- [x]  Выполнен шаг 1: данные подготовлены\n",
    "- [x]  Выполнен шаг 2: модели обучены и проверены\n",
    "    - [x]  Данные корректно разбиты на обучающую и валидационную выборки\n",
    "    - [x]  Модели обучены, предсказания сделаны\n",
    "    - [x]  Предсказания и правильные ответы на валидационной выборке сохранены\n",
    "    - [x]  На экране напечатаны результаты\n",
    "    - [x]  Сделаны выводы\n",
    "- [x]  Выполнен шаг 3: проведена подготовка к расчёту прибыли\n",
    "    - [x]  Для всех ключевых значений созданы константы Python\n",
    "    - [x]  Посчитано минимальное среднее количество продукта в месторождениях региона, достаточное для разработки\n",
    "    - [x]  По предыдущему пункту сделаны выводы\n",
    "    - [x]  Написана функция расчёта прибыли\n",
    "- [x]  Выполнен шаг 4: посчитаны риски и прибыль\n",
    "    - [x]  Проведена процедура *Bootstrap*\n",
    "    - [x]  Все параметры бутстрепа соответствуют условию\n",
    "    - [x]  Найдены все нужные величины\n",
    "    - [x]  Предложен регион для разработки месторождения\n",
    "    - [x]  Выбор региона обоснован"
   ]
  }
 ],
 "metadata": {
  "kernelspec": {
   "display_name": "Python 3",
   "language": "python",
   "name": "python3"
  },
  "language_info": {
   "codemirror_mode": {
    "name": "ipython",
    "version": 3
   },
   "file_extension": ".py",
   "mimetype": "text/x-python",
   "name": "python",
   "nbconvert_exporter": "python",
   "pygments_lexer": "ipython3",
   "version": "3.7.6"
  }
 },
 "nbformat": 4,
 "nbformat_minor": 2
}
